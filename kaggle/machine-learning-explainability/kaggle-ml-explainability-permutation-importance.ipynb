{
 "cells": [
  {
   "cell_type": "markdown",
   "metadata": {},
   "source": [
    "**MACHINE LEARNING EXPLAINABILITY**"
   ]
  },
  {
   "cell_type": "code",
   "execution_count": null,
   "metadata": {},
   "outputs": [],
   "source": [
    "# PERMTUTATION IMPORTANCE\n",
    "import eli5\n",
    "from eli5.sklearn import PermutationImportance\n",
    "# Create PermutationImportance object wih the movel\n",
    "perm = PermutationImportance(model, random_state=1).fit(val_X, val_y)\n",
    "# Show weights of every feature\n",
    "eli5.show_weights(perm, feature_names = val_X.columns.tolist())"
   ]
  }
 ],
 "metadata": {
  "kernelspec": {
   "display_name": "base",
   "language": "python",
   "name": "python3"
  },
  "language_info": {
   "name": "python",
   "version": "3.11.5"
  }
 },
 "nbformat": 4,
 "nbformat_minor": 2
}
