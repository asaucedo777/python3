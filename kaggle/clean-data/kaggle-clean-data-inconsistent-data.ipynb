{
 "cells": [
  {
   "cell_type": "markdown",
   "metadata": {},
   "source": [
    "**INCONSISTENT DATA ENTRY**"
   ]
  },
  {
   "cell_type": "code",
   "execution_count": 10,
   "metadata": {},
   "outputs": [],
   "source": [
    "# load data\n",
    "import pandas as pd\n",
    "\n",
    "\n",
    "professors = pd.read_csv('../../../data/pakistan_intellectual_capital.csv')"
   ]
  },
  {
   "cell_type": "code",
   "execution_count": 11,
   "metadata": {},
   "outputs": [
    {
     "data": {
      "text/html": [
       "<div>\n",
       "<style scoped>\n",
       "    .dataframe tbody tr th:only-of-type {\n",
       "        vertical-align: middle;\n",
       "    }\n",
       "\n",
       "    .dataframe tbody tr th {\n",
       "        vertical-align: top;\n",
       "    }\n",
       "\n",
       "    .dataframe thead th {\n",
       "        text-align: right;\n",
       "    }\n",
       "</style>\n",
       "<table border=\"1\" class=\"dataframe\">\n",
       "  <thead>\n",
       "    <tr style=\"text-align: right;\">\n",
       "      <th></th>\n",
       "      <th>Unnamed: 0</th>\n",
       "      <th>S#</th>\n",
       "      <th>Teacher Name</th>\n",
       "      <th>University Currently Teaching</th>\n",
       "      <th>Department</th>\n",
       "      <th>Province University Located</th>\n",
       "      <th>Designation</th>\n",
       "      <th>Terminal Degree</th>\n",
       "      <th>Graduated from</th>\n",
       "      <th>Country</th>\n",
       "      <th>Year</th>\n",
       "      <th>Area of Specialization/Research Interests</th>\n",
       "      <th>Other Information</th>\n",
       "    </tr>\n",
       "  </thead>\n",
       "  <tbody>\n",
       "    <tr>\n",
       "      <th>0</th>\n",
       "      <td>2</td>\n",
       "      <td>3</td>\n",
       "      <td>Dr. Abdul Basit</td>\n",
       "      <td>University of Balochistan</td>\n",
       "      <td>Computer Science &amp; IT</td>\n",
       "      <td>Balochistan</td>\n",
       "      <td>Assistant Professor</td>\n",
       "      <td>PhD</td>\n",
       "      <td>Asian Institute of Technology</td>\n",
       "      <td>Thailand</td>\n",
       "      <td>NaN</td>\n",
       "      <td>Software Engineering &amp; DBMS</td>\n",
       "      <td>NaN</td>\n",
       "    </tr>\n",
       "    <tr>\n",
       "      <th>1</th>\n",
       "      <td>4</td>\n",
       "      <td>5</td>\n",
       "      <td>Dr. Waheed Noor</td>\n",
       "      <td>University of Balochistan</td>\n",
       "      <td>Computer Science &amp; IT</td>\n",
       "      <td>Balochistan</td>\n",
       "      <td>Assistant Professor</td>\n",
       "      <td>PhD</td>\n",
       "      <td>Asian Institute of Technology</td>\n",
       "      <td>Thailand</td>\n",
       "      <td>NaN</td>\n",
       "      <td>DBMS</td>\n",
       "      <td>NaN</td>\n",
       "    </tr>\n",
       "    <tr>\n",
       "      <th>2</th>\n",
       "      <td>5</td>\n",
       "      <td>6</td>\n",
       "      <td>Dr. Junaid Baber</td>\n",
       "      <td>University of Balochistan</td>\n",
       "      <td>Computer Science &amp; IT</td>\n",
       "      <td>Balochistan</td>\n",
       "      <td>Assistant Professor</td>\n",
       "      <td>PhD</td>\n",
       "      <td>Asian Institute of Technology</td>\n",
       "      <td>Thailand</td>\n",
       "      <td>NaN</td>\n",
       "      <td>Information processing, Multimedia mining</td>\n",
       "      <td>NaN</td>\n",
       "    </tr>\n",
       "    <tr>\n",
       "      <th>3</th>\n",
       "      <td>6</td>\n",
       "      <td>7</td>\n",
       "      <td>Dr. Maheen Bakhtyar</td>\n",
       "      <td>University of Balochistan</td>\n",
       "      <td>Computer Science &amp; IT</td>\n",
       "      <td>Balochistan</td>\n",
       "      <td>Assistant Professor</td>\n",
       "      <td>PhD</td>\n",
       "      <td>Asian Institute of Technology</td>\n",
       "      <td>Thailand</td>\n",
       "      <td>NaN</td>\n",
       "      <td>NLP, Information Retrieval, Question Answering...</td>\n",
       "      <td>NaN</td>\n",
       "    </tr>\n",
       "    <tr>\n",
       "      <th>4</th>\n",
       "      <td>24</td>\n",
       "      <td>25</td>\n",
       "      <td>Samina Azim</td>\n",
       "      <td>Sardar Bahadur Khan Women's University</td>\n",
       "      <td>Computer Science</td>\n",
       "      <td>Balochistan</td>\n",
       "      <td>Lecturer</td>\n",
       "      <td>BS</td>\n",
       "      <td>Balochistan University of Information Technolo...</td>\n",
       "      <td>Pakistan</td>\n",
       "      <td>2005.0</td>\n",
       "      <td>VLSI Electronics DLD Database</td>\n",
       "      <td>NaN</td>\n",
       "    </tr>\n",
       "  </tbody>\n",
       "</table>\n",
       "</div>"
      ],
      "text/plain": [
       "   Unnamed: 0  S#         Teacher Name  \\\n",
       "0           2   3      Dr. Abdul Basit   \n",
       "1           4   5      Dr. Waheed Noor   \n",
       "2           5   6     Dr. Junaid Baber   \n",
       "3           6   7  Dr. Maheen Bakhtyar   \n",
       "4          24  25          Samina Azim   \n",
       "\n",
       "            University Currently Teaching             Department  \\\n",
       "0               University of Balochistan  Computer Science & IT   \n",
       "1               University of Balochistan  Computer Science & IT   \n",
       "2               University of Balochistan  Computer Science & IT   \n",
       "3               University of Balochistan  Computer Science & IT   \n",
       "4  Sardar Bahadur Khan Women's University       Computer Science   \n",
       "\n",
       "  Province University Located          Designation Terminal Degree  \\\n",
       "0                 Balochistan  Assistant Professor             PhD   \n",
       "1                 Balochistan  Assistant Professor             PhD   \n",
       "2                 Balochistan  Assistant Professor             PhD   \n",
       "3                 Balochistan  Assistant Professor             PhD   \n",
       "4                 Balochistan             Lecturer              BS   \n",
       "\n",
       "                                      Graduated from   Country    Year  \\\n",
       "0                      Asian Institute of Technology  Thailand     NaN   \n",
       "1                      Asian Institute of Technology  Thailand     NaN   \n",
       "2                      Asian Institute of Technology  Thailand     NaN   \n",
       "3                      Asian Institute of Technology  Thailand     NaN   \n",
       "4  Balochistan University of Information Technolo...  Pakistan  2005.0   \n",
       "\n",
       "           Area of Specialization/Research Interests Other Information  \n",
       "0                        Software Engineering & DBMS               NaN  \n",
       "1                                               DBMS               NaN  \n",
       "2          Information processing, Multimedia mining               NaN  \n",
       "3  NLP, Information Retrieval, Question Answering...               NaN  \n",
       "4                      VLSI Electronics DLD Database               NaN  "
      ]
     },
     "execution_count": 11,
     "metadata": {},
     "output_type": "execute_result"
    }
   ],
   "source": [
    "# show first rows\n",
    "professors.head()"
   ]
  },
  {
   "cell_type": "code",
   "execution_count": 12,
   "metadata": {},
   "outputs": [
    {
     "data": {
      "text/plain": [
       "[' Germany',\n",
       " ' New Zealand',\n",
       " ' Sweden',\n",
       " ' USA',\n",
       " 'Australia',\n",
       " 'Austria',\n",
       " 'Canada',\n",
       " 'China',\n",
       " 'Finland',\n",
       " 'France',\n",
       " 'germany',\n",
       " 'Greece',\n",
       " 'HongKong',\n",
       " 'Ireland',\n",
       " 'Italy',\n",
       " 'Japan',\n",
       " 'Macau',\n",
       " 'Malaysia',\n",
       " 'Mauritius',\n",
       " 'Netherland',\n",
       " 'New Zealand',\n",
       " 'Norway',\n",
       " 'Pakistan',\n",
       " 'Portugal',\n",
       " 'Russian Federation',\n",
       " 'Saudi Arabia',\n",
       " 'Scotland',\n",
       " 'Singapore',\n",
       " 'South Korea',\n",
       " 'SouthKorea',\n",
       " 'Spain',\n",
       " 'Sweden',\n",
       " 'Thailand',\n",
       " 'Turkey',\n",
       " 'UK',\n",
       " 'Urbana',\n",
       " 'USA',\n",
       " 'USofA']"
      ]
     },
     "execution_count": 12,
     "metadata": {},
     "output_type": "execute_result"
    }
   ],
   "source": [
    "# analyze inconsistencies in countries\n",
    "countries = professors.Country.unique()\n",
    "sorted(countries,key=str.casefold)"
   ]
  },
  {
   "cell_type": "code",
   "execution_count": 13,
   "metadata": {},
   "outputs": [
    {
     "data": {
      "text/plain": [
       "0          thailand\n",
       "1          thailand\n",
       "2          thailand\n",
       "3          thailand\n",
       "4          pakistan\n",
       "           ...     \n",
       "1137    south korea\n",
       "1138         france\n",
       "1139            usa\n",
       "1140       pakistan\n",
       "1141    south korea\n",
       "Name: Country, Length: 1142, dtype: object"
      ]
     },
     "execution_count": 13,
     "metadata": {},
     "output_type": "execute_result"
    }
   ],
   "source": [
    "# CLEANING\n",
    "professors.Country = professors.Country.str.lower()\n",
    "professors.Country = professors.Country.str.strip()\n",
    "professors.Country"
   ]
  },
  {
   "cell_type": "code",
   "execution_count": 14,
   "metadata": {},
   "outputs": [
    {
     "data": {
      "text/plain": [
       "['australia',\n",
       " 'austria',\n",
       " 'canada',\n",
       " 'china',\n",
       " 'finland',\n",
       " 'france',\n",
       " 'germany',\n",
       " 'greece',\n",
       " 'hongkong',\n",
       " 'ireland',\n",
       " 'italy',\n",
       " 'japan',\n",
       " 'macau',\n",
       " 'malaysia',\n",
       " 'mauritius',\n",
       " 'netherland',\n",
       " 'new zealand',\n",
       " 'norway',\n",
       " 'pakistan',\n",
       " 'portugal',\n",
       " 'russian federation',\n",
       " 'saudi arabia',\n",
       " 'scotland',\n",
       " 'singapore',\n",
       " 'south korea',\n",
       " 'southkorea',\n",
       " 'spain',\n",
       " 'sweden',\n",
       " 'thailand',\n",
       " 'turkey',\n",
       " 'uk',\n",
       " 'urbana',\n",
       " 'usa',\n",
       " 'usofa']"
      ]
     },
     "execution_count": 14,
     "metadata": {},
     "output_type": "execute_result"
    }
   ],
   "source": [
    "sorted(professors.Country.unique())"
   ]
  },
  {
   "cell_type": "code",
   "execution_count": 15,
   "metadata": {},
   "outputs": [
    {
     "name": "stderr",
     "output_type": "stream",
     "text": [
      "/Users/asaucedo/workspaces/python3/.venv/lib/python3.13/site-packages/fuzzywuzzy/fuzz.py:11: UserWarning: Using slow pure-python SequenceMatcher. Install python-Levenshtein to remove this warning\n",
      "  warnings.warn('Using slow pure-python SequenceMatcher. Install python-Levenshtein to remove this warning')\n"
     ]
    },
    {
     "data": {
      "text/plain": [
       "[('South Korea', 100),\n",
       " ('SouthKorea', 48),\n",
       " ('Saudi Arabia', 43),\n",
       " ('Norway', 35),\n",
       " ('Ireland', 33),\n",
       " ('Portugal', 32),\n",
       " ('Singapore', 30),\n",
       " ('Netherland', 29),\n",
       " ('USofA', 25),\n",
       " ('Macau', 25)]"
      ]
     },
     "execution_count": 15,
     "metadata": {},
     "output_type": "execute_result"
    }
   ],
   "source": [
    "# FUZZY MATCHING\n",
    "# Ej.  'southkorea' and 'south korea'\n",
    "import fuzzywuzzy\n",
    "import fuzzywuzzy.fuzz\n",
    "import fuzzywuzzy.process\n",
    "\n",
    "\n",
    "matches = fuzzywuzzy.process.extract('south korea', countries, limit=10, scorer=fuzzywuzzy.fuzz.token_sort_ratio)\n",
    "matches\n"
   ]
  },
  {
   "cell_type": "code",
   "execution_count": 16,
   "metadata": {},
   "outputs": [],
   "source": [
    "# function to replace matches\n",
    "def replace_matches_in_column(df: pd.DataFrame, column, string_to_match: str, min_ratio = 47) -> None:\n",
    "  strings = df[column].unique()\n",
    "  matches = fuzzywuzzy.process.extract(string_to_match, strings, limit=10, scorer=fuzzywuzzy.fuzz.token_sort_ratio)\n",
    "  close_matches = [ matches[0] for matches in matches if matches[1] >= min_ratio]\n",
    "  rows_with_matches = df[column].isin(close_matches)\n",
    "  df.loc[rows_with_matches, column] = string_to_match\n",
    "  print(\"All done\")"
   ]
  },
  {
   "cell_type": "code",
   "execution_count": 17,
   "metadata": {},
   "outputs": [
    {
     "name": "stdout",
     "output_type": "stream",
     "text": [
      "All done\n"
     ]
    },
    {
     "data": {
      "text/plain": [
       "['australia',\n",
       " 'austria',\n",
       " 'canada',\n",
       " 'china',\n",
       " 'finland',\n",
       " 'france',\n",
       " 'germany',\n",
       " 'greece',\n",
       " 'hongkong',\n",
       " 'ireland',\n",
       " 'italy',\n",
       " 'japan',\n",
       " 'macau',\n",
       " 'malaysia',\n",
       " 'mauritius',\n",
       " 'netherland',\n",
       " 'new zealand',\n",
       " 'norway',\n",
       " 'pakistan',\n",
       " 'portugal',\n",
       " 'russian federation',\n",
       " 'saudi arabia',\n",
       " 'scotland',\n",
       " 'singapore',\n",
       " 'south korea',\n",
       " 'spain',\n",
       " 'sweden',\n",
       " 'thailand',\n",
       " 'turkey',\n",
       " 'uk',\n",
       " 'urbana',\n",
       " 'usa',\n",
       " 'usofa']"
      ]
     },
     "execution_count": 17,
     "metadata": {},
     "output_type": "execute_result"
    }
   ],
   "source": [
    "# use the function to clean country column\n",
    "replace_matches_in_column(df=professors, column='Country', string_to_match='south korea')\n",
    "sorted(professors.Country.unique())"
   ]
  },
  {
   "cell_type": "code",
   "execution_count": 18,
   "metadata": {},
   "outputs": [
    {
     "name": "stdout",
     "output_type": "stream",
     "text": [
      "True\n"
     ]
    }
   ],
   "source": [
    "def prepared_for_weather(have_umbrella, rain_level, have_hood, is_workday):\n",
    "    # Don't change this code. Our goal is just to find the bug, not fix it!\n",
    "    return (have_umbrella) or (rain_level <= 5 and have_hood) or (rain_level == 0.0) or (rain_level > 0 and not is_workday)\n",
    "\n",
    "# Change the values of these inputs so they represent a case where prepared_for_weather\n",
    "# returns the wrong answer.\n",
    "have_umbrella = False\n",
    "rain_level = 0.0\n",
    "have_hood = False\n",
    "is_workday = False\n",
    "\n",
    "# Check what the function returns given the current values of the variables above\n",
    "actual = prepared_for_weather(have_umbrella, rain_level, have_hood, is_workday)\n",
    "print(actual)"
   ]
  }
 ],
 "metadata": {
  "kernelspec": {
   "display_name": ".venv",
   "language": "python",
   "name": "python3"
  },
  "language_info": {
   "codemirror_mode": {
    "name": "ipython",
    "version": 3
   },
   "file_extension": ".py",
   "mimetype": "text/x-python",
   "name": "python",
   "nbconvert_exporter": "python",
   "pygments_lexer": "ipython3",
   "version": "3.13.1"
  }
 },
 "nbformat": 4,
 "nbformat_minor": 2
}
