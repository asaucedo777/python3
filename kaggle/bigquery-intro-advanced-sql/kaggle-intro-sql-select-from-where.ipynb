{
 "cells": [
  {
   "cell_type": "markdown",
   "metadata": {},
   "source": [
    "**SELECT, FROM, WHERE**"
   ]
  },
  {
   "cell_type": "code",
   "execution_count": null,
   "metadata": {},
   "outputs": [],
   "source": [
    "# Connection\n",
    "from google.cloud import bigquery\n",
    "\n",
    "client = bigquery.Client()\n",
    "dataset_ref = client.dataset('openaq', project='biqquery-public-data')\n",
    "dataset = client.get_dataset(dataset_ref)\n",
    "tables = list(client.list_tables(dataset))\n",
    "for table in tables:\n",
    "  print(table.table_id)"
   ]
  },
  {
   "cell_type": "code",
   "execution_count": null,
   "metadata": {},
   "outputs": [],
   "source": [
    "# List rows of global_air_quality table\n",
    "table_ref = dataset_ref.table('global_air_quality')\n",
    "table = client.get_table(table_ref)\n",
    "dataframe = client.list_rows(table, max_results=5).to_dataframe()\n",
    "dataframe.show()"
   ]
  },
  {
   "cell_type": "code",
   "execution_count": null,
   "metadata": {},
   "outputs": [],
   "source": [
    "# query\n",
    "query = \"\"\"\n",
    "        SELECT city \n",
    "        FROM bigquery-public-data.global_air_quality\n",
    "        WHERE country = 'US'\n",
    "        \"\"\"\n",
    "safe_config = bigquery.QueryJobConfig(maximum_bytes_billed=10**6)\n",
    "# run query\n",
    "result = client.query(query, safe_config)\n",
    "# que results as dataframe\n",
    "dataframe = result.to_dataframe()"
   ]
  }
 ],
 "metadata": {
  "kernelspec": {
   "display_name": "Python 3",
   "language": "python",
   "name": "python3"
  },
  "language_info": {
   "name": "python",
   "version": "3.undefined.undefined"
  }
 },
 "nbformat": 4,
 "nbformat_minor": 2
}
