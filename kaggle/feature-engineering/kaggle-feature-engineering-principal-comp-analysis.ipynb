{
 "cells": [
  {
   "cell_type": "markdown",
   "metadata": {},
   "source": [
    "**Principal Component Analysis**"
   ]
  },
  {
   "cell_type": "code",
   "execution_count": 1,
   "metadata": {},
   "outputs": [],
   "source": [
    "# Load data\n",
    "import pandas as pd\n",
    "df = pd.read_csv(\"../../../data/autos.csv\")"
   ]
  },
  {
   "cell_type": "code",
   "execution_count": 2,
   "metadata": {},
   "outputs": [
    {
     "data": {
      "text/plain": [
       "Index(['symboling', 'make', 'fuel_type', 'aspiration', 'num_of_doors',\n",
       "       'body_style', 'drive_wheels', 'engine_location', 'wheel_base', 'length',\n",
       "       'width', 'height', 'curb_weight', 'engine_type', 'num_of_cylinders',\n",
       "       'engine_size', 'fuel_system', 'bore', 'stroke', 'compression_ratio',\n",
       "       'horsepower', 'peak_rpm', 'city_mpg', 'highway_mpg', 'price'],\n",
       "      dtype='object')"
      ]
     },
     "execution_count": 2,
     "metadata": {},
     "output_type": "execute_result"
    }
   ],
   "source": [
    "df.columns"
   ]
  },
  {
   "cell_type": "code",
   "execution_count": 3,
   "metadata": {},
   "outputs": [],
   "source": [
    "# selected features\n",
    "features = ['highway_mpg', 'engine_size', 'horsepower', 'curb_weight']\n",
    "X = df.copy()\n",
    "y = X.pop('price')\n",
    "X = X.loc[:, features]"
   ]
  },
  {
   "cell_type": "code",
   "execution_count": 4,
   "metadata": {},
   "outputs": [],
   "source": [
    "# Standarize\n",
    "X_scaled = (X - X.mean(axis=0)) / X.std(axis=0)"
   ]
  },
  {
   "cell_type": "code",
   "execution_count": 5,
   "metadata": {},
   "outputs": [],
   "source": [
    "# Decomposition PCA\n",
    "from sklearn.decomposition import PCA\n",
    "pca = PCA()\n",
    "X_pca = pca.fit_transform(X_scaled)\n",
    "component_names = [f\"PC{i+1}\" for i in range(X_pca.shape[1])]\n"
   ]
  },
  {
   "cell_type": "code",
   "execution_count": 6,
   "metadata": {},
   "outputs": [
    {
     "data": {
      "text/html": [
       "<div>\n",
       "<style scoped>\n",
       "    .dataframe tbody tr th:only-of-type {\n",
       "        vertical-align: middle;\n",
       "    }\n",
       "\n",
       "    .dataframe tbody tr th {\n",
       "        vertical-align: top;\n",
       "    }\n",
       "\n",
       "    .dataframe thead th {\n",
       "        text-align: right;\n",
       "    }\n",
       "</style>\n",
       "<table border=\"1\" class=\"dataframe\">\n",
       "  <thead>\n",
       "    <tr style=\"text-align: right;\">\n",
       "      <th></th>\n",
       "      <th>PC1</th>\n",
       "      <th>PC2</th>\n",
       "      <th>PC3</th>\n",
       "      <th>PC4</th>\n",
       "    </tr>\n",
       "  </thead>\n",
       "  <tbody>\n",
       "    <tr>\n",
       "      <th>0</th>\n",
       "      <td>0.382486</td>\n",
       "      <td>-0.400222</td>\n",
       "      <td>0.124122</td>\n",
       "      <td>0.169539</td>\n",
       "    </tr>\n",
       "    <tr>\n",
       "      <th>1</th>\n",
       "      <td>0.382486</td>\n",
       "      <td>-0.400222</td>\n",
       "      <td>0.124122</td>\n",
       "      <td>0.169539</td>\n",
       "    </tr>\n",
       "    <tr>\n",
       "      <th>2</th>\n",
       "      <td>1.550890</td>\n",
       "      <td>-0.107175</td>\n",
       "      <td>0.598361</td>\n",
       "      <td>-0.256081</td>\n",
       "    </tr>\n",
       "    <tr>\n",
       "      <th>3</th>\n",
       "      <td>-0.408859</td>\n",
       "      <td>-0.425947</td>\n",
       "      <td>0.243335</td>\n",
       "      <td>0.013920</td>\n",
       "    </tr>\n",
       "    <tr>\n",
       "      <th>4</th>\n",
       "      <td>1.132749</td>\n",
       "      <td>-0.814565</td>\n",
       "      <td>-0.202885</td>\n",
       "      <td>0.224138</td>\n",
       "    </tr>\n",
       "  </tbody>\n",
       "</table>\n",
       "</div>"
      ],
      "text/plain": [
       "        PC1       PC2       PC3       PC4\n",
       "0  0.382486 -0.400222  0.124122  0.169539\n",
       "1  0.382486 -0.400222  0.124122  0.169539\n",
       "2  1.550890 -0.107175  0.598361 -0.256081\n",
       "3 -0.408859 -0.425947  0.243335  0.013920\n",
       "4  1.132749 -0.814565 -0.202885  0.224138"
      ]
     },
     "execution_count": 6,
     "metadata": {},
     "output_type": "execute_result"
    }
   ],
   "source": [
    "# Create DataFrame with components\n",
    "X_pca = pd.DataFrame(X_pca, columns=component_names)\n",
    "X_pca.head()"
   ]
  },
  {
   "cell_type": "code",
   "execution_count": 7,
   "metadata": {},
   "outputs": [
    {
     "data": {
      "text/html": [
       "<div>\n",
       "<style scoped>\n",
       "    .dataframe tbody tr th:only-of-type {\n",
       "        vertical-align: middle;\n",
       "    }\n",
       "\n",
       "    .dataframe tbody tr th {\n",
       "        vertical-align: top;\n",
       "    }\n",
       "\n",
       "    .dataframe thead th {\n",
       "        text-align: right;\n",
       "    }\n",
       "</style>\n",
       "<table border=\"1\" class=\"dataframe\">\n",
       "  <thead>\n",
       "    <tr style=\"text-align: right;\">\n",
       "      <th></th>\n",
       "      <th>PC1</th>\n",
       "      <th>PC2</th>\n",
       "      <th>PC3</th>\n",
       "      <th>PC4</th>\n",
       "    </tr>\n",
       "  </thead>\n",
       "  <tbody>\n",
       "    <tr>\n",
       "      <th>highway_mpg</th>\n",
       "      <td>-0.492347</td>\n",
       "      <td>0.770892</td>\n",
       "      <td>0.070142</td>\n",
       "      <td>-0.397996</td>\n",
       "    </tr>\n",
       "    <tr>\n",
       "      <th>engine_size</th>\n",
       "      <td>0.503859</td>\n",
       "      <td>0.626709</td>\n",
       "      <td>0.019960</td>\n",
       "      <td>0.594107</td>\n",
       "    </tr>\n",
       "    <tr>\n",
       "      <th>horsepower</th>\n",
       "      <td>0.500448</td>\n",
       "      <td>0.013788</td>\n",
       "      <td>0.731093</td>\n",
       "      <td>-0.463534</td>\n",
       "    </tr>\n",
       "    <tr>\n",
       "      <th>curb_weight</th>\n",
       "      <td>0.503262</td>\n",
       "      <td>0.113008</td>\n",
       "      <td>-0.678369</td>\n",
       "      <td>-0.523232</td>\n",
       "    </tr>\n",
       "  </tbody>\n",
       "</table>\n",
       "</div>"
      ],
      "text/plain": [
       "                  PC1       PC2       PC3       PC4\n",
       "highway_mpg -0.492347  0.770892  0.070142 -0.397996\n",
       "engine_size  0.503859  0.626709  0.019960  0.594107\n",
       "horsepower   0.500448  0.013788  0.731093 -0.463534\n",
       "curb_weight  0.503262  0.113008 -0.678369 -0.523232"
      ]
     },
     "execution_count": 7,
     "metadata": {},
     "output_type": "execute_result"
    }
   ],
   "source": [
    "# Transpose matrix\n",
    "loadings = pd.DataFrame(\n",
    "  pca.components_.T,\n",
    "  columns=component_names,\n",
    "  index=X.columns\n",
    ")\n",
    "loadings"
   ]
  },
  {
   "cell_type": "code",
   "execution_count": 8,
   "metadata": {},
   "outputs": [
    {
     "data": {
      "text/plain": [
       "array([<Axes: title={'center': '% Explained Variance'}, xlabel='Component'>,\n",
       "       <Axes: title={'center': '% Cumulative Variance'}, xlabel='Component'>],\n",
       "      dtype=object)"
      ]
     },
     "execution_count": 8,
     "metadata": {},
     "output_type": "execute_result"
    },
    {
     "data": {
      "image/png": "[encoded data removed]",
      "text/plain": [
       "<Figure size 800x480 with 2 Axes>"
      ]
     },
     "metadata": {},
     "output_type": "display_data"
    }
   ],
   "source": [
    "# Plot variance\n",
    "from matplotlib import pyplot as plt\n",
    "import numpy as np\n",
    "\n",
    "\n",
    "def plot_variance(pca):\n",
    "  fig, axs = plt.subplots(1, 2)\n",
    "  n = pca.n_components_\n",
    "  grid = np.arange(1, n+1)\n",
    "  evr = pca.explained_variance_ratio_\n",
    "  axs[0].bar(grid, evr)\n",
    "  axs[0].set(xlabel='Component', title='% Explained Variance', ylim=(0.0, 1.0))\n",
    "  cv = np.cumsum(evr)\n",
    "  axs[1].plot(np.r_[0, grid], np.r_[0, cv], 'o-')\n",
    "  axs[1].set(xlabel='Component', title='% Cumulative Variance', ylim=(0.0, 1.0))\n",
    "  fig.set(figwidth=8, dpi=100)\n",
    "  return axs\n",
    "\n",
    "plot_variance(pca)"
   ]
  },
  {
   "cell_type": "code",
   "execution_count": 9,
   "metadata": {},
   "outputs": [
    {
     "data": {
      "text/plain": [
       "PC1    1.012992\n",
       "PC2    0.378955\n",
       "PC3    0.307026\n",
       "PC4    0.205019\n",
       "Name: MI Scores, dtype: float64"
      ]
     },
     "execution_count": 9,
     "metadata": {},
     "output_type": "execute_result"
    }
   ],
   "source": [
    "# Scores\n",
    "from sklearn.feature_selection import mutual_info_regression\n",
    "\n",
    "\n",
    "def make_mi_scores(X, y, discrete_features):\n",
    "  mi_scores = mutual_info_regression(X, y, discrete_features=discrete_features)\n",
    "  mi_scores = pd.Series(mi_scores, name='MI Scores', index=X.columns)\n",
    "  mi_scores = mi_scores.sort_values(ascending=False)\n",
    "  return mi_scores\n",
    "\n",
    "mi_scores = make_mi_scores(X_pca, y, discrete_features=False)\n",
    "mi_scores"
   ]
  },
  {
   "cell_type": "code",
   "execution_count": 10,
   "metadata": {},
   "outputs": [
    {
     "data": {
      "text/html": [
       "<div>\n",
       "<style scoped>\n",
       "    .dataframe tbody tr th:only-of-type {\n",
       "        vertical-align: middle;\n",
       "    }\n",
       "\n",
       "    .dataframe tbody tr th {\n",
       "        vertical-align: top;\n",
       "    }\n",
       "\n",
       "    .dataframe thead th {\n",
       "        text-align: right;\n",
       "    }\n",
       "</style>\n",
       "<table border=\"1\" class=\"dataframe\">\n",
       "  <thead>\n",
       "    <tr style=\"text-align: right;\">\n",
       "      <th></th>\n",
       "      <th>make</th>\n",
       "      <th>body_style</th>\n",
       "      <th>horsepower</th>\n",
       "      <th>curb_weight</th>\n",
       "    </tr>\n",
       "  </thead>\n",
       "  <tbody>\n",
       "    <tr>\n",
       "      <th>118</th>\n",
       "      <td>porsche</td>\n",
       "      <td>hardtop</td>\n",
       "      <td>207</td>\n",
       "      <td>2756</td>\n",
       "    </tr>\n",
       "    <tr>\n",
       "      <th>117</th>\n",
       "      <td>porsche</td>\n",
       "      <td>hardtop</td>\n",
       "      <td>207</td>\n",
       "      <td>2756</td>\n",
       "    </tr>\n",
       "    <tr>\n",
       "      <th>119</th>\n",
       "      <td>porsche</td>\n",
       "      <td>convertible</td>\n",
       "      <td>207</td>\n",
       "      <td>2800</td>\n",
       "    </tr>\n",
       "    <tr>\n",
       "      <th>45</th>\n",
       "      <td>jaguar</td>\n",
       "      <td>sedan</td>\n",
       "      <td>262</td>\n",
       "      <td>3950</td>\n",
       "    </tr>\n",
       "    <tr>\n",
       "      <th>96</th>\n",
       "      <td>nissan</td>\n",
       "      <td>hatchback</td>\n",
       "      <td>200</td>\n",
       "      <td>3139</td>\n",
       "    </tr>\n",
       "    <tr>\n",
       "      <th>...</th>\n",
       "      <td>...</td>\n",
       "      <td>...</td>\n",
       "      <td>...</td>\n",
       "      <td>...</td>\n",
       "    </tr>\n",
       "    <tr>\n",
       "      <th>59</th>\n",
       "      <td>mercedes-benz</td>\n",
       "      <td>wagon</td>\n",
       "      <td>123</td>\n",
       "      <td>3750</td>\n",
       "    </tr>\n",
       "    <tr>\n",
       "      <th>61</th>\n",
       "      <td>mercedes-benz</td>\n",
       "      <td>sedan</td>\n",
       "      <td>123</td>\n",
       "      <td>3770</td>\n",
       "    </tr>\n",
       "    <tr>\n",
       "      <th>101</th>\n",
       "      <td>peugot</td>\n",
       "      <td>wagon</td>\n",
       "      <td>95</td>\n",
       "      <td>3430</td>\n",
       "    </tr>\n",
       "    <tr>\n",
       "      <th>105</th>\n",
       "      <td>peugot</td>\n",
       "      <td>wagon</td>\n",
       "      <td>95</td>\n",
       "      <td>3485</td>\n",
       "    </tr>\n",
       "    <tr>\n",
       "      <th>143</th>\n",
       "      <td>toyota</td>\n",
       "      <td>wagon</td>\n",
       "      <td>62</td>\n",
       "      <td>3110</td>\n",
       "    </tr>\n",
       "  </tbody>\n",
       "</table>\n",
       "<p>193 rows × 4 columns</p>\n",
       "</div>"
      ],
      "text/plain": [
       "              make   body_style  horsepower  curb_weight\n",
       "118        porsche      hardtop         207         2756\n",
       "117        porsche      hardtop         207         2756\n",
       "119        porsche  convertible         207         2800\n",
       "45          jaguar        sedan         262         3950\n",
       "96          nissan    hatchback         200         3139\n",
       "..             ...          ...         ...          ...\n",
       "59   mercedes-benz        wagon         123         3750\n",
       "61   mercedes-benz        sedan         123         3770\n",
       "101         peugot        wagon          95         3430\n",
       "105         peugot        wagon          95         3485\n",
       "143         toyota        wagon          62         3110\n",
       "\n",
       "[193 rows x 4 columns]"
      ]
     },
     "execution_count": 10,
     "metadata": {},
     "output_type": "execute_result"
    }
   ],
   "source": [
    "# show dataframe sorted\n",
    "idx = X_pca['PC3'].sort_values(ascending=False).index\n",
    "cols = ['make', 'body_style', 'horsepower', 'curb_weight']\n",
    "df.loc[idx, cols]"
   ]
  },
  {
   "cell_type": "code",
   "execution_count": 11,
   "metadata": {},
   "outputs": [
    {
     "data": {
      "text/plain": [
       "<Axes: xlabel='sports_or_wagon', ylabel='price'>"
      ]
     },
     "execution_count": 11,
     "metadata": {},
     "output_type": "execute_result"
    },
    {
     "data": {
      "image/png": "[encoded data removed]",
      "text/plain": [
       "<Figure size 640x480 with 1 Axes>"
      ]
     },
     "metadata": {},
     "output_type": "display_data"
    }
   ],
   "source": [
    "import seaborn as sns\n",
    "df['sports_or_wagon'] =X.curb_weight / X.horsepower\n",
    "sns.regplot(x='sports_or_wagon', y='price', data=df, order=2)"
   ]
  }
 ],
 "metadata": {
  "kernelspec": {
   "display_name": "Python 3",
   "language": "python",
   "name": "python3"
  },
  "language_info": {
   "codemirror_mode": {
    "name": "ipython",
    "version": 3
   },
   "file_extension": ".py",
   "mimetype": "text/x-python",
   "name": "python",
   "nbconvert_exporter": "python",
   "pygments_lexer": "ipython3",
   "version": "3.13.1"
  }
 },
 "nbformat": 4,
 "nbformat_minor": 2
}
