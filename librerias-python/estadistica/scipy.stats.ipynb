{
 "cells": [
  {
   "cell_type": "markdown",
   "metadata": {},
   "source": [
    "**Statistical Significance Tests**\n",
    "1. T-Test\n",
    "2. KS-Test\n",
    "3. Statistical Description of Data\n",
    "4. Normality Tests (skewness and kurtosis)"
   ]
  },
  {
   "cell_type": "code",
   "execution_count": 1,
   "metadata": {},
   "outputs": [
    {
     "name": "stdout",
     "output_type": "stream",
     "text": [
      "TtestResult(statistic=0.23619654294522924, pvalue=0.8135243158656003, df=198.0)\n"
     ]
    }
   ],
   "source": [
    "# T-Test between 2 variables\n",
    "import numpy as np\n",
    "from scipy.stats import ttest_ind\n",
    "\n",
    "v1 = np.random.normal(size=100)\n",
    "v2 = np.random.normal(size=100)\n",
    "\n",
    "res = ttest_ind(v1, v2)\n",
    "\n",
    "print(res)"
   ]
  },
  {
   "cell_type": "code",
   "execution_count": 2,
   "metadata": {},
   "outputs": [
    {
     "name": "stdout",
     "output_type": "stream",
     "text": [
      "KstestResult(statistic=0.14577638366515738, pvalue=0.025592116929022954, statistic_location=0.16563114878973975, statistic_sign=-1)\n"
     ]
    }
   ],
   "source": [
    "# KS-Test to determine if a variable follow a distribution\n",
    "import numpy as np\n",
    "from scipy.stats import kstest\n",
    "\n",
    "v = np.random.normal(size=100)\n",
    "\n",
    "res = kstest(v, 'norm')\n",
    "\n",
    "print(res)"
   ]
  },
  {
   "cell_type": "code",
   "execution_count": 3,
   "metadata": {},
   "outputs": [
    {
     "name": "stdout",
     "output_type": "stream",
     "text": [
      "DescribeResult(nobs=100, minmax=(-2.0844475672209657, 2.7367888161151597), mean=-0.04861301498236495, variance=1.0475065672046338, skewness=0.554951017352638, kurtosis=0.009001413698446203)\n"
     ]
    }
   ],
   "source": [
    "# Describe data\n",
    "import numpy as np\n",
    "from scipy.stats import describe\n",
    "\n",
    "v = np.random.normal(size=100)\n",
    "res = describe(v)\n",
    "\n",
    "print(res)"
   ]
  },
  {
   "cell_type": "code",
   "execution_count": 6,
   "metadata": {},
   "outputs": [
    {
     "name": "stdout",
     "output_type": "stream",
     "text": [
      "0.033710585577696066\n",
      "0.10844339545973503\n"
     ]
    }
   ],
   "source": [
    "# Calculate skewnew and kurtosis\n",
    "import numpy as np\n",
    "from scipy.stats import skew, kurtosis\n",
    "\n",
    "v = np.random.normal(size=100)\n",
    "\n",
    "print(skew(v))\n",
    "print(kurtosis(v))"
   ]
  },
  {
   "cell_type": "code",
   "execution_count": 9,
   "metadata": {},
   "outputs": [
    {
     "name": "stdout",
     "output_type": "stream",
     "text": [
      "NormaltestResult(statistic=0.7547041020645736, pvalue=0.6856746389353501)\n",
      "NormaltestResult(statistic=5.1735704091375, pvalue=0.07526160224586693)\n"
     ]
    }
   ],
   "source": [
    "# Normaltest\n",
    "import numpy as np\n",
    "from scipy.stats import normaltest\n",
    "\n",
    "v = np.random.normal(size=100)\n",
    "w = np.random.binomial(100, 0.05, 100)\n",
    "\n",
    "print(normaltest(v))\n",
    "print(normaltest(w))"
   ]
  }
 ],
 "metadata": {
  "kernelspec": {
   "display_name": "base",
   "language": "python",
   "name": "python3"
  },
  "language_info": {
   "codemirror_mode": {
    "name": "ipython",
    "version": 3
   },
   "file_extension": ".py",
   "mimetype": "text/x-python",
   "name": "python",
   "nbconvert_exporter": "python",
   "pygments_lexer": "ipython3",
   "version": "3.11.5"
  }
 },
 "nbformat": 4,
 "nbformat_minor": 2
}
