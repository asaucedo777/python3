{
 "cells": [
  {
   "cell_type": "markdown",
   "metadata": {},
   "source": [
    "**Statistical Significance Tests**\n",
    "1. T-Test\n",
    "2. KS-Test\n",
    "3. Statistical Description of Data\n",
    "4. Normality Tests (skewness and kurtosis)"
   ]
  },
  {
   "cell_type": "code",
   "execution_count": 1,
   "metadata": {},
   "outputs": [
    {
     "name": "stdout",
     "output_type": "stream",
     "text": [
      "TtestResult(statistic=np.float64(-1.1849579943991078), pvalue=np.float64(0.23745436329073297), df=np.float64(198.0))\n"
     ]
    }
   ],
   "source": [
    "# T-Test between 2 variables\n",
    "import numpy as np\n",
    "from scipy.stats import ttest_ind\n",
    "\n",
    "v1 = np.random.normal(size=100)\n",
    "v2 = np.random.normal(size=100)\n",
    "\n",
    "res = ttest_ind(v1, v2)\n",
    "\n",
    "print(res)"
   ]
  },
  {
   "cell_type": "code",
   "execution_count": 2,
   "metadata": {},
   "outputs": [
    {
     "name": "stdout",
     "output_type": "stream",
     "text": [
      "KstestResult(statistic=np.float64(0.14406275710188743), pvalue=np.float64(0.028318062742089922), statistic_location=np.float64(-0.19151067969639338), statistic_sign=np.int8(-1))\n"
     ]
    }
   ],
   "source": [
    "# KS-Test to determine if a variable follow a distribution\n",
    "import numpy as np\n",
    "from scipy.stats import kstest\n",
    "\n",
    "v = np.random.normal(size=100)\n",
    "\n",
    "res = kstest(v, 'norm')\n",
    "\n",
    "print(res)"
   ]
  },
  {
   "cell_type": "code",
   "execution_count": 3,
   "metadata": {},
   "outputs": [
    {
     "name": "stdout",
     "output_type": "stream",
     "text": [
      "DescribeResult(nobs=100, minmax=(np.float64(-2.049623788946968), np.float64(2.941519777257829)), mean=np.float64(0.09542071006507084), variance=np.float64(1.003909845786664), skewness=np.float64(0.09658039897080184), kurtosis=np.float64(-0.32113190451600593))\n"
     ]
    }
   ],
   "source": [
    "# Describe data\n",
    "import numpy as np\n",
    "from scipy.stats import describe\n",
    "\n",
    "v = np.random.normal(size=100)\n",
    "res = describe(v)\n",
    "\n",
    "print(res)"
   ]
  },
  {
   "cell_type": "code",
   "execution_count": 4,
   "metadata": {},
   "outputs": [
    {
     "name": "stdout",
     "output_type": "stream",
     "text": [
      "-0.4244132767978097\n",
      "1.0770924368878223\n"
     ]
    }
   ],
   "source": [
    "# Calculate skewnew and kurtosis\n",
    "import numpy as np\n",
    "from scipy.stats import skew, kurtosis\n",
    "\n",
    "v = np.random.normal(size=100)\n",
    "\n",
    "print(skew(v))\n",
    "print(kurtosis(v))"
   ]
  },
  {
   "cell_type": "code",
   "execution_count": 5,
   "metadata": {},
   "outputs": [
    {
     "name": "stdout",
     "output_type": "stream",
     "text": [
      "NormaltestResult(statistic=np.float64(0.14084176516587404), pvalue=np.float64(0.9320014741582493))\n",
      "NormaltestResult(statistic=np.float64(12.40715922120036), pvalue=np.float64(0.0020221790515457883))\n"
     ]
    }
   ],
   "source": [
    "# Normaltest\n",
    "import numpy as np\n",
    "from scipy.stats import normaltest\n",
    "\n",
    "v = np.random.normal(size=100)\n",
    "w = np.random.binomial(100, 0.05, 100)\n",
    "\n",
    "print(normaltest(v))\n",
    "print(normaltest(w))"
   ]
  }
 ],
 "metadata": {
  "kernelspec": {
   "display_name": "Python 3",
   "language": "python",
   "name": "python3"
  },
  "language_info": {
   "codemirror_mode": {
    "name": "ipython",
    "version": 3
   },
   "file_extension": ".py",
   "mimetype": "text/x-python",
   "name": "python",
   "nbconvert_exporter": "python",
   "pygments_lexer": "ipython3",
   "version": "3.9.6"
  }
 },
 "nbformat": 4,
 "nbformat_minor": 2
}
