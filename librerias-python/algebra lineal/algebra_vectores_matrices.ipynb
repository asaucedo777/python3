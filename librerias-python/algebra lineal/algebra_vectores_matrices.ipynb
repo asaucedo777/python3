{
 "cells": [
  {
   "cell_type": "markdown",
   "metadata": {},
   "source": [
    "**ÁLGEBRA LINEAL CON PYTHON**\n",
    "  1. Vectores\n",
    "  2. Matrices\n",
    "  3. Operaciiones con matrices\n",
    "  4. Matriz inversa\n",
    "  5. Matriz traspuesta\n",
    "  6. Rango de una matriz\n",
    "  7. Grafos como matrices"
   ]
  },
  {
   "cell_type": "code",
   "execution_count": 1,
   "metadata": {},
   "outputs": [
    {
     "name": "stdout",
     "output_type": "stream",
     "text": [
      "[1. 1. 1. 1. 1.]\n",
      "[1 2 3 4 5 6 7]\n",
      "[0 2 4 6 8]\n"
     ]
    }
   ],
   "source": [
    "# importar librería numpy https://numpy.org/doc/stable/user/absolute_beginners.html\n",
    "import numpy as np\n",
    "v1 = np.ones(5)\n",
    "v2 = np.array([1,2,3,4,5,6,7])\n",
    "v3 = np.arange(start=0, step=2, stop=10)\n",
    "print(v1)\n",
    "print(v2)\n",
    "print(v3)"
   ]
  },
  {
   "cell_type": "code",
   "execution_count": 2,
   "metadata": {},
   "outputs": [],
   "source": [
    "# Representación gráfica con matplotlib\n",
    "import matplotlib.pyplot as plt\n",
    "def create_pyplot_axis():\n",
    "  fix, ax = plt.subplots()\n",
    "  for spine in [\"right\", \"top\", \"bottom\", \"left\"]: # bordes del gráfico\n",
    "    ax.spines[spine].set_color(\"red\")\n",
    "    # ax.spines[spine].set_linestyle(\"none\")\n",
    "  return ax\n",
    "\n",
    "def vect_fig():\n",
    "  ax = create_pyplot_axis()\n",
    "  ax.set_xlim(-5,5)\n",
    "  ax.set_ylim(-5,5)\n",
    "  ax.grid(visible=True, which='major')\n",
    "  vecs = [[2, 4], [-3, 3], [-4, -3.5]]\n",
    "  for v in vecs:\n",
    "    ax.annotate(\" \", xy=v, xytext=[0, 0], arrowprops=dict(facecolor=\"blue\",\n",
    "                                                          shrink=0,\n",
    "                                                          alpha=0.7,\n",
    "                                                          width=0.5))\n",
    "    ax.text(1.1 * v[0], 1.1 * v[1], v)"
   ]
  },
  {
   "cell_type": "code",
   "execution_count": 3,
   "metadata": {},
   "outputs": [
    {
     "data": {
      "image/png": "[encoded data removed]",
      "text/plain": [
       "<Figure size 640x480 with 1 Axes>"
      ]
     },
     "metadata": {},
     "output_type": "display_data"
    }
   ],
   "source": [
    "# llamada a la función que crea el gráfico\n",
    "vect_fig()"
   ]
  },
  {
   "cell_type": "code",
   "execution_count": 4,
   "metadata": {},
   "outputs": [
    {
     "name": "stdout",
     "output_type": "stream",
     "text": [
      "[0 1 2 3 4 5 6 7 8 9]\n",
      "[10 11 12 13 14 15 16 17 18 19]\n",
      "[10 12 14 16 18 20 22 24 26 28]\n",
      "[-10 -10 -10 -10 -10 -10 -10 -10 -10 -10]\n",
      "[  0  23  46  69  92 115 138 161 184 207]\n"
     ]
    }
   ],
   "source": [
    "# Operaciones con vectores (suma, resta y producto por escalar)\n",
    "v1 = np.arange(0,10)\n",
    "v2 = np.arange(10,20)\n",
    "print(v1)\n",
    "print(v2)\n",
    "print(v1 + v2)\n",
    "print(v1 - v2)\n",
    "print(23 * v1)"
   ]
  },
  {
   "cell_type": "code",
   "execution_count": 5,
   "metadata": {},
   "outputs": [
    {
     "name": "stdout",
     "output_type": "stream",
     "text": [
      "[1 2 3 4]\n",
      "[2 4 6 8]\n",
      "[ 2  8 18 32]\n",
      "60\n"
     ]
    }
   ],
   "source": [
    "# Producto de vectores y producto escalar de vectores\n",
    "v1 = np.arange(1, 5)\n",
    "v2 = np.arange(2, 10, 2)\n",
    "print(v1)\n",
    "print(v2)\n",
    "print(v1 * v2)\n",
    "print(v1 @ v2)"
   ]
  },
  {
   "cell_type": "code",
   "execution_count": 6,
   "metadata": {},
   "outputs": [
    {
     "name": "stdout",
     "output_type": "stream",
     "text": [
      "Dimensión de A: (3, 3)\n",
      "Cantidad de elementos de A: 9\n",
      "[[2 3 7]\n",
      " [8 5 0]\n",
      " [3 3 3]]\n",
      "[[ 0  3 -3]\n",
      " [-6 -5  0]\n",
      " [-1  1  1]]\n",
      "[[2 6 4]\n",
      " [2 0 0]\n",
      " [2 4 4]]\n"
     ]
    }
   ],
   "source": [
    "# MATRICES\n",
    "A = np.array([\n",
    "  [1, 3, 2],\n",
    "  [1, 0, 0],\n",
    "  [1, 2, 2],\n",
    "  ])\n",
    "B = np.array([\n",
    "  [1, 0, 5],\n",
    "  [7, 5, 0],\n",
    "  [2, 1, 1],\n",
    "])\n",
    "print(f\"Dimensión de A: {A.shape}\")\n",
    "print(f\"Cantidad de elementos de A: {A.size}\")\n",
    "print(A + B)\n",
    "print(A - B)\n",
    "print(2 * A)\n"
   ]
  },
  {
   "cell_type": "code",
   "execution_count": 7,
   "metadata": {},
   "outputs": [
    {
     "name": "stdout",
     "output_type": "stream",
     "text": [
      "[[ 1  2  3  4]\n",
      " [ 5  6  7  8]\n",
      " [ 9 10 11 12]]\n",
      "[[0 1]\n",
      " [2 3]\n",
      " [4 5]\n",
      " [6 7]]\n",
      "[[ 40  50]\n",
      " [ 88 114]\n",
      " [136 178]]\n",
      "[[ 6 13 12]\n",
      " [12 21 14]\n",
      " [ 4  8  6]]\n"
     ]
    }
   ],
   "source": [
    "# Producto de matrices\n",
    "C = np.arange(1, 13).reshape(3, 4) # creamos un vector de 12 elementos y lo disponemos en 3 filas y 4 columnas\n",
    "D = np.arange(8).reshape(4,2)\n",
    "print(C)\n",
    "print(D)\n",
    "print(C @ D)\n",
    "try:\n",
    "  print(B @ A)\n",
    "except:\n",
    "  print(\"No se ha podido B @ A\")"
   ]
  },
  {
   "cell_type": "code",
   "execution_count": 8,
   "metadata": {},
   "outputs": [
    {
     "name": "stdout",
     "output_type": "stream",
     "text": [
      "[[1. 0.]\n",
      " [0. 1.]]\n",
      "[[1 2]\n",
      " [1 3]]\n",
      "[[1. 2.]\n",
      " [1. 3.]]\n",
      "1.0\n",
      "[[ 3. -2.]\n",
      " [-1.  1.]]\n",
      "[[1 1]\n",
      " [2 3]]\n"
     ]
    }
   ],
   "source": [
    "# Matriz identidad (I), matriz inversa (A_inv), matriz transpuesta (A_t) y determinante\n",
    "I2 = np.eye(2)\n",
    "print(I2)\n",
    "A = np.array([\n",
    "  [1, 2],\n",
    "  [1, 3],\n",
    "])\n",
    "print(A)\n",
    "# Multiplicación escalar de una matriz por la matriz identidad nos da esa misma matriz\n",
    "print(A @ I2)\n",
    "# Determinante de la matriz\n",
    "print(np.linalg.det(A))\n",
    "# Calcular la inversa\n",
    "A_inv = np.linalg.inv(A)\n",
    "print(A_inv)\n",
    "# Transponer la matriz\n",
    "A_t = np.transpose(A)\n",
    "print(A_t)"
   ]
  }
 ],
 "metadata": {
  "kernelspec": {
   "display_name": "Python 3",
   "language": "python",
   "name": "python3"
  },
  "language_info": {
   "codemirror_mode": {
    "name": "ipython",
    "version": 3
   },
   "file_extension": ".py",
   "mimetype": "text/x-python",
   "name": "python",
   "nbconvert_exporter": "python",
   "pygments_lexer": "ipython3",
   "version": "3.11.7"
  }
 },
 "nbformat": 4,
 "nbformat_minor": 2
}
