{
 "cells": [
  {
   "cell_type": "markdown",
   "metadata": {},
   "source": [
    "**OPTIMIZACIÓN FUNCIONES CON pulp**\n",
    "1. PULP\n",
    "* Declarar variables\n",
    "* Definir problema\n",
    "* Definir restricciones\n",
    "* Definir función objetivo\n",
    "* Resolver problema y presentar resultados"
   ]
  },
  {
   "cell_type": "code",
   "execution_count": 3,
   "metadata": {},
   "outputs": [
    {
     "data": {
      "text/plain": [
       "'\\nPlanteamiento del problema:\\n  Dada f(x) = 50*x1 + 40*x2\\n    x1 = -40*x2 / 50\\n    x2 = -50*x1 / 40\\n  Y las restricciones:\\n    x1 + 1.5*x2 <= 750\\n    2*x1 + x2 <= 1000\\n    x1 >= 0\\n    x2 >= 0\\n  Obtener el valor máximo de x en el intervalo (0,oo)\\n'"
      ]
     },
     "execution_count": 3,
     "metadata": {},
     "output_type": "execute_result"
    }
   ],
   "source": [
    "\"\"\"\n",
    "Planteamiento del problema:\n",
    "  Dada f(x) = 50*x1 + 40*x2\n",
    "    x1 = -40*x2 / 50\n",
    "    x2 = -50*x1 / 40\n",
    "  Y las restricciones:\n",
    "    x1 + 1.5*x2 <= 750\n",
    "    2*x1 + x2 <= 1000\n",
    "    x1 >= 0\n",
    "    x2 >= 0\n",
    "  Obtener el valor máximo de x en el intervalo (0,oo)\n",
    "\"\"\""
   ]
  },
  {
   "cell_type": "code",
   "execution_count": 4,
   "metadata": {},
   "outputs": [],
   "source": [
    "# Importamos librerías para pulp\n",
    "from pulp import *"
   ]
  },
  {
   "cell_type": "markdown",
   "metadata": {},
   "source": []
  },
  {
   "cell_type": "code",
   "execution_count": 5,
   "metadata": {},
   "outputs": [],
   "source": [
    "# Definimos variable\n",
    "x1 = LpVariable(\"x1\", 0, 800)\n",
    "x2 = LpVariable(\"x2\", 0, 1000)"
   ]
  },
  {
   "cell_type": "code",
   "execution_count": 6,
   "metadata": {},
   "outputs": [],
   "source": [
    "# Definimos el problema\n",
    "prob = LpProblem(\"problem\", LpMaximize)"
   ]
  },
  {
   "cell_type": "code",
   "execution_count": 7,
   "metadata": {},
   "outputs": [],
   "source": [
    "# Definimos las restricciones\n",
    "prob += x1 + 1.5*x2 <= 750\n",
    "prob += 2*x1 + x2 <= 1000\n",
    "prob += x1 >= 0\n",
    "prob += x2 >= 0"
   ]
  },
  {
   "cell_type": "code",
   "execution_count": 8,
   "metadata": {},
   "outputs": [],
   "source": [
    "# Definimos función objetivo\n",
    "prob += 50*x1 + 40*x2"
   ]
  },
  {
   "cell_type": "code",
   "execution_count": 9,
   "metadata": {},
   "outputs": [
    {
     "name": "stdout",
     "output_type": "stream",
     "text": [
      "Welcome to the CBC MILP Solver \n",
      "Version: 2.10.3 \n",
      "Build Date: Dec 15 2019 \n",
      "\n",
      "command line - /Users/asaucedo/workspaces/python3/.venv/lib/python3.9/site-packages/pulp/solverdir/cbc/osx/64/cbc /var/folders/nf/hsmn691n5xv9xhtsgqfd72vc0000gp/T/a5a0a08d874f4107ac4681c6183a845a-pulp.mps -max -timeMode elapsed -branch -printingOptions all -solution /var/folders/nf/hsmn691n5xv9xhtsgqfd72vc0000gp/T/a5a0a08d874f4107ac4681c6183a845a-pulp.sol (default strategy 1)\n",
      "At line 2 NAME          MODEL\n",
      "At line 3 ROWS\n",
      "At line 9 COLUMNS\n",
      "At line 18 RHS\n",
      "At line 23 BOUNDS\n",
      "At line 26 ENDATA\n",
      "Problem MODEL has 4 rows, 2 columns and 6 elements\n",
      "Coin0008I MODEL read with 0 errors\n",
      "Option for timeMode changed from cpu to elapsed\n",
      "Presolve 2 (-2) rows, 2 (0) columns and 4 (-2) elements\n",
      "0  Obj -0 Dual inf 89.999998 (2)\n",
      "2  Obj 28750\n",
      "Optimal - objective value 28750\n",
      "After Postsolve, objective 28750, infeasibilities - dual 0 (0), primal 0 (0)\n",
      "Optimal objective 28750 - 2 iterations time 0.002, Presolve 0.00\n",
      "Option for printingOptions changed from normal to all\n",
      "Total time (CPU seconds):       0.00   (Wallclock seconds):       0.00\n",
      "\n"
     ]
    },
    {
     "data": {
      "text/plain": [
       "'Optimal'"
      ]
     },
     "execution_count": 9,
     "metadata": {},
     "output_type": "execute_result"
    }
   ],
   "source": [
    "# Resolver\n",
    "# status = prob.solve(GLPK(msg=0))\n",
    "status = prob.solve()\n",
    "LpStatus[status]"
   ]
  },
  {
   "cell_type": "code",
   "execution_count": 10,
   "metadata": {},
   "outputs": [
    {
     "data": {
      "text/plain": [
       "(375.0, 250.0)"
      ]
     },
     "execution_count": 10,
     "metadata": {},
     "output_type": "execute_result"
    }
   ],
   "source": [
    "# Mostrar resultados\n",
    "(value(x1), value(x2))"
   ]
  },
  {
   "cell_type": "code",
   "execution_count": 11,
   "metadata": {},
   "outputs": [
    {
     "name": "stdout",
     "output_type": "stream",
     "text": [
      "28750.0\n"
     ]
    }
   ],
   "source": [
    "# Comprobación\n",
    "print(50*375. + 40*250.)"
   ]
  }
 ],
 "metadata": {
  "kernelspec": {
   "display_name": "Python 3",
   "language": "python",
   "name": "python3"
  },
  "language_info": {
   "codemirror_mode": {
    "name": "ipython",
    "version": 3
   },
   "file_extension": ".py",
   "mimetype": "text/x-python",
   "name": "python",
   "nbconvert_exporter": "python",
   "pygments_lexer": "ipython3",
   "version": "3.9.6"
  }
 },
 "nbformat": 4,
 "nbformat_minor": 2
}
