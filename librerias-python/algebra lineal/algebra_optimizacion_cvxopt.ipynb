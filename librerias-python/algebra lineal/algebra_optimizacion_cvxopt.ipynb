{
 "cells": [
  {
   "cell_type": "markdown",
   "metadata": {},
   "source": [
    "**OPTIMIZACIÓN FUNCIONES CON cvxopt**\n",
    "1. Librería cvxopt\n",
    "2. cvxopt\n",
    "* Declarar variables\n",
    "* Definir problema\n",
    "* Definir restricciones\n",
    "* Definir función objetivo\n",
    "* Resolver problema y presentar resultados"
   ]
  },
  {
   "cell_type": "code",
   "execution_count": 1,
   "metadata": {},
   "outputs": [
    {
     "data": {
      "text/plain": [
       "'\\nPlanteamiento del problema:\\n  Dada f(x) = 50*x1 + 40*x2\\n    x1 = -40*x2 / 50\\n    x2 = -50*x1 / 40\\n  Y las restricciones:\\n    x1 + 1.5*x2 <= 750\\n    2*x1 + x2 <= 1000\\n    x1 >= 0\\n    x2 >= 0\\n  Obtener el valor máximo de x en el intervalo (0,oo)\\n'"
      ]
     },
     "execution_count": 1,
     "metadata": {},
     "output_type": "execute_result"
    }
   ],
   "source": [
    "\"\"\"\n",
    "Planteamiento del problema:\n",
    "  Dada f(x) = 50*x1 + 40*x2\n",
    "    x1 = -40*x2 / 50\n",
    "    x2 = -50*x1 / 40\n",
    "  Y las restricciones:\n",
    "    x1 + 1.5*x2 <= 750\n",
    "    2*x1 + x2 <= 1000\n",
    "    x1 >= 0\n",
    "    x2 >= 0\n",
    "  Obtener el valor máximo de x en el intervalo (0,oo)\n",
    "\"\"\""
   ]
  },
  {
   "cell_type": "code",
   "execution_count": 2,
   "metadata": {},
   "outputs": [],
   "source": [
    "# Importamos librerías de cvxopt: matrix y solvers\n",
    "from cvxopt import matrix, solvers"
   ]
  },
  {
   "cell_type": "code",
   "execution_count": 4,
   "metadata": {},
   "outputs": [
    {
     "ename": "NameError",
     "evalue": "name 'C' is not defined",
     "output_type": "error",
     "traceback": [
      "\u001b[0;31m---------------------------------------------------------------------------\u001b[0m",
      "\u001b[0;31mNameError\u001b[0m                                 Traceback (most recent call last)",
      "Cell \u001b[0;32mIn[4], line 2\u001b[0m\n\u001b[1;32m      1\u001b[0m \u001b[38;5;66;03m# Resolver\u001b[39;00m\n\u001b[0;32m----> 2\u001b[0m sol \u001b[38;5;241m=\u001b[39m solvers\u001b[38;5;241m.\u001b[39mlp(\u001b[43mC\u001b[49m, A, B)\n",
      "\u001b[0;31mNameError\u001b[0m: name 'C' is not defined"
     ]
    }
   ],
   "source": [
    "# Resolver\n",
    "sol = solvers.lp(C, A, B)"
   ]
  },
  {
   "cell_type": "code",
   "execution_count": 5,
   "metadata": {},
   "outputs": [
    {
     "name": "stdout",
     "output_type": "stream",
     "text": [
      "375 y 250\n"
     ]
    }
   ],
   "source": [
    "# Mostrar resultados formateados\n",
    "print(\"{0:.0f} y {1:.0f}\".format(-sol['x'][0], -sol['x'][1]))"
   ]
  },
  {
   "cell_type": "code",
   "execution_count": 6,
   "metadata": {},
   "outputs": [
    {
     "name": "stdout",
     "output_type": "stream",
     "text": [
      "28750.0\n"
     ]
    }
   ],
   "source": [
    "# Comprobación\n",
    "print(50*375. + 40*250.)"
   ]
  }
 ],
 "metadata": {
  "kernelspec": {
   "display_name": "Python 3",
   "language": "python",
   "name": "python3"
  },
  "language_info": {
   "codemirror_mode": {
    "name": "ipython",
    "version": 3
   },
   "file_extension": ".py",
   "mimetype": "text/x-python",
   "name": "python",
   "nbconvert_exporter": "python",
   "pygments_lexer": "ipython3",
   "version": "3.9.6"
  }
 },
 "nbformat": 4,
 "nbformat_minor": 2
}
