{
 "cells": [
  {
   "cell_type": "markdown",
   "metadata": {},
   "source": [
    "**OPTIMIZACIÓN FUNCIONES CON cvxopt**\n",
    "1. Librería cvxopt\n",
    "2. cvxopt\n",
    "* Declarar variables\n",
    "* Definir problema\n",
    "* Definir restricciones\n",
    "* Definir función objetivo\n",
    "* Resolver problema y presentar resultados"
   ]
  },
  {
   "cell_type": "code",
   "execution_count": 1,
   "metadata": {},
   "outputs": [
    {
     "data": {
      "text/plain": [
       "'\\nPlanteamiento del problema:\\n  Dada f(x) = 50*x1 + 40*x2\\n    x1 = -40*x2 / 50\\n    x2 = -50*x1 / 40\\n  Y las restricciones:\\n    x1 + 1.5*x2 <= 750\\n    2*x1 + x2 <= 1000\\n    x1 >= 0\\n    x2 >= 0\\n  Obtener el valor máximo de x en el intervalo (0,oo)\\n'"
      ]
     },
     "execution_count": 1,
     "metadata": {},
     "output_type": "execute_result"
    }
   ],
   "source": [
    "\"\"\"\n",
    "Planteamiento del problema:\n",
    "  Dada f(x) = 50*x1 + 40*x2\n",
    "    x1 = -40*x2 / 50\n",
    "    x2 = -50*x1 / 40\n",
    "  Y las restricciones:\n",
    "    x1 + 1.5*x2 <= 750\n",
    "    2*x1 + x2 <= 1000\n",
    "    x1 >= 0\n",
    "    x2 >= 0\n",
    "  Obtener el valor máximo de x en el intervalo (0,oo)\n",
    "\"\"\""
   ]
  },
  {
   "cell_type": "code",
   "execution_count": 2,
   "metadata": {},
   "outputs": [],
   "source": [
    "# Importamos librerías de cvxopt: matrix y solvers\n",
    "from cvxopt import matrix, solvers"
   ]
  },
  {
   "cell_type": "code",
   "execution_count": null,
   "metadata": {},
   "outputs": [],
   "source": [
    "# Definimos de forma matricial\n"
   ]
  },
  {
   "cell_type": "code",
   "execution_count": null,
   "metadata": {},
   "outputs": [],
   "source": []
  },
  {
   "cell_type": "code",
   "execution_count": 4,
   "metadata": {},
   "outputs": [
    {
     "name": "stdout",
     "output_type": "stream",
     "text": [
      "     pcost       dcost       gap    pres   dres   k/t\n",
      " 0: -2.5472e+04 -3.6797e+04  5e+03  0e+00  3e-01  1e+00\n",
      " 1: -2.8720e+04 -2.9111e+04  1e+02  5e-16  9e-03  2e+01\n",
      " 2: -2.8750e+04 -2.8754e+04  1e+00  3e-16  9e-05  2e-01\n",
      " 3: -2.8750e+04 -2.8750e+04  1e-02  4e-17  9e-07  2e-03\n",
      " 4: -2.8750e+04 -2.8750e+04  1e-04  2e-16  9e-09  2e-05\n",
      "Optimal solution found.\n"
     ]
    }
   ],
   "source": [
    "# Resolver\n",
    "sol = solvers.lp(C, A, B)"
   ]
  },
  {
   "cell_type": "code",
   "execution_count": 5,
   "metadata": {},
   "outputs": [
    {
     "name": "stdout",
     "output_type": "stream",
     "text": [
      "375 y 250\n"
     ]
    }
   ],
   "source": [
    "# Mostrar resultados formateados\n",
    "print(\"{0:.0f} y {1:.0f}\".format(-sol['x'][0], -sol['x'][1]))"
   ]
  },
  {
   "cell_type": "code",
   "execution_count": 6,
   "metadata": {},
   "outputs": [
    {
     "name": "stdout",
     "output_type": "stream",
     "text": [
      "28750.0\n"
     ]
    }
   ],
   "source": [
    "# Comprobación\n",
    "print(50*375. + 40*250.)"
   ]
  }
 ],
 "metadata": {
  "kernelspec": {
   "display_name": "Python 3",
   "language": "python",
   "name": "python3"
  },
  "language_info": {
   "codemirror_mode": {
    "name": "ipython",
    "version": 3
   },
   "file_extension": ".py",
   "mimetype": "text/x-python",
   "name": "python",
   "nbconvert_exporter": "python",
   "pygments_lexer": "ipython3",
   "version": "3.11.5"
  }
 },
 "nbformat": 4,
 "nbformat_minor": 2
}
