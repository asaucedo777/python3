{
 "cells": [
  {
   "cell_type": "markdown",
   "metadata": {},
   "source": [
    "**SCIKIT Getting Started**"
   ]
  },
  {
   "cell_type": "code",
   "execution_count": 31,
   "metadata": {},
   "outputs": [],
   "source": [
    "# Importar librerías a utilizar\n",
    "import pandas as pd\n",
    "import numpy as np\n",
    "import matplotlib.pyplot as plt\n",
    "from scipy import stats"
   ]
  },
  {
   "cell_type": "markdown",
   "metadata": {},
   "source": [
    "##### Estimadores\n",
    "Un estimador permite ajustar los datos de muestra a un modelo y realizar predicciones basadas en dicho modelo.\n",
    "\n",
    "A partir de una muestra datos con 1 o varias variables y el conjunto de resultados de clasificación:\n",
    "1. Ajustamos el modelo utilizando un estimador que utiliza previsión aleatoria (RandomForestClassifier)\n",
    "2. Realizamos predicciones sobre otra muestra de datos"
   ]
  },
  {
   "cell_type": "code",
   "execution_count": 41,
   "metadata": {},
   "outputs": [
    {
     "name": "stdout",
     "output_type": "stream",
     "text": [
      "[[5.1, 3.5], [4.9, 3.0], [4.7, 3.2], [4.6, 3.1], [5.0, 3.6], [5.4, 3.9], [4.6, 3.4], [5.0, 3.4], [4.4, 2.9], [4.9, 3.1], [5.4, 3.7], [4.8, 3.4], [4.8, 3.0], [4.3, 3.0], [5.8, 4.0], [5.7, 4.4], [5.4, 3.9], [5.1, 3.5], [5.7, 3.8], [5.1, 3.8], [5.4, 3.4], [5.1, 3.7], [4.6, 3.6], [5.1, 3.3], [4.8, 3.4], [5.0, 3.0], [5.0, 3.4], [5.2, 3.5], [5.2, 3.4], [4.7, 3.2], [4.8, 3.1], [5.4, 3.4], [5.2, 4.1], [5.5, 4.2], [4.9, 3.1], [5.0, 3.2], [5.5, 3.5], [4.9, 3.1], [4.4, 3.0], [5.1, 3.4], [5.0, 3.5], [4.5, 2.3], [4.4, 3.2], [5.0, 3.5], [5.1, 3.8], [4.8, 3.0], [5.1, 3.8], [4.6, 3.2], [5.3, 3.7], [5.0, 3.3]]\n",
      "building tree 1 of 100\n",
      "building tree 2 of 100\n",
      "building tree 3 of 100\n",
      "building tree 4 of 100\n",
      "building tree 5 of 100\n",
      "building tree 6 of 100\n",
      "building tree 7 of 100\n",
      "building tree 8 of 100\n",
      "building tree 9 of 100\n",
      "building tree 10 of 100\n",
      "building tree 11 of 100\n",
      "building tree 12 of 100\n",
      "building tree 13 of 100\n",
      "building tree 14 of 100\n",
      "building tree 15 of 100\n",
      "building tree 16 of 100\n",
      "building tree 17 of 100\n",
      "building tree 18 of 100\n",
      "building tree 19 of 100\n",
      "building tree 20 of 100\n",
      "building tree 21 of 100\n",
      "building tree 22 of 100\n",
      "building tree 23 of 100\n",
      "building tree 24 of 100\n",
      "building tree 25 of 100\n",
      "building tree 26 of 100\n",
      "building tree 27 of 100\n",
      "building tree 28 of 100\n",
      "building tree 29 of 100\n",
      "building tree 30 of 100\n",
      "building tree 31 of 100\n",
      "building tree 32 of 100\n",
      "building tree 33 of 100\n",
      "building tree 34 of 100\n",
      "building tree 35 of 100\n",
      "building tree 36 of 100\n",
      "building tree 37 of 100\n",
      "building tree 38 of 100\n",
      "building tree 39 of 100\n",
      "building tree 40 of 100\n",
      "building tree 41 of 100\n",
      "building tree 42 of 100\n",
      "building tree 43 of 100\n",
      "building tree 44 of 100\n",
      "building tree 45 of 100\n",
      "building tree 46 of 100\n",
      "building tree 47 of 100\n",
      "building tree 48 of 100\n",
      "building tree 49 of 100\n",
      "building tree 50 of 100\n",
      "building tree 51 of 100\n",
      "building tree 52 of 100\n",
      "building tree 53 of 100\n",
      "building tree 54 of 100\n",
      "building tree 55 of 100\n",
      "building tree 56 of 100\n",
      "building tree 57 of 100\n",
      "building tree 58 of 100\n",
      "building tree 59 of 100\n",
      "building tree 60 of 100\n",
      "building tree 61 of 100\n",
      "building tree 62 of 100\n",
      "building tree 63 of 100\n",
      "building tree 64 of 100\n",
      "building tree 65 of 100\n",
      "building tree 66 of 100\n",
      "building tree 67 of 100\n",
      "building tree 68 of 100\n",
      "building tree 69 of 100\n",
      "building tree 70 of 100\n",
      "building tree 71 of 100\n",
      "building tree 72 of 100\n",
      "building tree 73 of 100\n",
      "building tree 74 of 100\n",
      "building tree 75 of 100\n",
      "building tree 76 of 100\n",
      "building tree 77 of 100\n",
      "building tree 78 of 100\n",
      "building tree 79 of 100\n",
      "building tree 80 of 100\n",
      "building tree 81 of 100\n",
      "building tree 82 of 100\n",
      "building tree 83 of 100\n",
      "building tree 84 of 100\n",
      "building tree 85 of 100\n",
      "building tree 86 of 100\n",
      "building tree 87 of 100\n",
      "building tree 88 of 100\n",
      "building tree 89 of 100\n",
      "building tree 90 of 100\n",
      "building tree 91 of 100\n",
      "building tree 92 of 100\n",
      "building tree 93 of 100\n",
      "building tree 94 of 100\n",
      "building tree 95 of 100\n",
      "building tree 96 of 100\n",
      "building tree 97 of 100\n",
      "building tree 98 of 100\n",
      "building tree 99 of 100\n",
      "building tree 100 of 100\n"
     ]
    },
    {
     "name": "stderr",
     "output_type": "stream",
     "text": [
      "[Parallel(n_jobs=1)]: Using backend SequentialBackend with 1 concurrent workers.\n",
      "[Parallel(n_jobs=1)]: Done   1 out of   1 | elapsed:    0.0s remaining:    0.0s\n",
      "[Parallel(n_jobs=1)]: Done   2 out of   2 | elapsed:    0.0s remaining:    0.0s\n",
      "[Parallel(n_jobs=1)]: Done 100 out of 100 | elapsed:    0.1s finished\n",
      "[Parallel(n_jobs=1)]: Using backend SequentialBackend with 1 concurrent workers.\n",
      "[Parallel(n_jobs=1)]: Done   1 out of   1 | elapsed:    0.0s remaining:    0.0s\n",
      "[Parallel(n_jobs=1)]: Done   2 out of   2 | elapsed:    0.0s remaining:    0.0s\n",
      "[Parallel(n_jobs=1)]: Done 100 out of 100 | elapsed:    0.0s finished\n"
     ]
    },
    {
     "data": {
      "text/plain": [
       "array([1, 1, 1, 1, 1, 1, 1, 1, 1, 1, 1, 1, 1, 1, 1, 1, 1, 1, 1, 1, 1, 1,\n",
       "       1, 1, 1, 1, 1, 1, 1, 1, 1, 1, 1, 1, 1, 1, 1, 1, 1, 1, 1, 1, 1, 1,\n",
       "       1, 1, 1, 1, 1, 1])"
      ]
     },
     "execution_count": 41,
     "metadata": {},
     "output_type": "execute_result"
    }
   ],
   "source": [
    "# Árboles Aleatorios (Random Forest)\n",
    "from sklearn.ensemble import RandomForestClassifier\n",
    "randomForestClassifier  = RandomForestClassifier(random_state=0, verbose=3)\n",
    "# setosa: longitud de sepalo\n",
    "x0 = [ 5.1, 4.9, 4.7, 4.6, 5.0, 5.4, 4.6, 5.0, 4.4, 4.9, 5.4, 4.8, 4.8, 4.3, 5.8, 5.7, 5.4, 5.1, 5.7, 5.1, 5.4, 5.1, 4.6, 5.1, 4.8, 5.0, 5.0, 5.2, 5.2, 4.7, 4.8, 5.4, 5.2, 5.5, 4.9, 5.0, 5.5, 4.9, 4.4, 5.1, 5.0, 4.5, 4.4, 5.0, 5.1, 4.8, 5.1, 4.6, 5.3, 5.0 ]\n",
    "# setosa: ancho de sepalo\n",
    "x1 = [ 3.5, 3.0, 3.2, 3.1, 3.6, 3.9, 3.4, 3.4, 2.9, 3.1, 3.7, 3.4, 3.0, 3.0, 4.0, 4.4, 3.9, 3.5, 3.8, 3.8, 3.4, 3.7, 3.6, 3.3, 3.4, 3.0, 3.4, 3.5, 3.4, 3.2, 3.1, 3.4, 4.1, 4.2, 3.1, 3.2, 3.5, 3.1, 3.0, 3.4, 3.5, 2.3, 3.2, 3.5, 3.8, 3.0, 3.8, 3.2, 3.7, 3.3 ]\n",
    "# Convertimos en matrix 50 muestras x 2 características\n",
    "X = [[x, x1[idx]] for idx, x in enumerate(x0)]\n",
    "print(X)\n",
    "# TODO Resultado de cada una de las 50 muestras\n",
    "Y = [1 for i in range(50)]\n",
    "# Ajusto el modelo\n",
    "randomForestClassifier.fit(X, Y)\n",
    "# Realizo predicciones\n",
    "randomForestClassifier.predict(X)\n",
    "# NOTA: Si realizo prediciones sobre la muestra, obtengo los resultados de Y\n",
    "\n"
   ]
  },
  {
   "cell_type": "markdown",
   "metadata": {},
   "source": [
    "##### Transformadores\n",
    "Los transformadores generan una matriz de muestra transformada a partir de la muestra original (X)\n",
    "\n",
    "Standard Scaler:\n",
    "z = (x - &#956;) / s"
   ]
  },
  {
   "cell_type": "code",
   "execution_count": 36,
   "metadata": {},
   "outputs": [
    {
     "data": {
      "text/plain": [
       "array([[ 0.26938189,  0.21739424],\n",
       "       [-0.30377107, -1.10818038],\n",
       "       [-0.87692403, -0.57795054],\n",
       "       [-1.16350052, -0.84306546],\n",
       "       [-0.01719459,  0.48250916],\n",
       "       [ 1.12911134,  1.27785394],\n",
       "       [-1.16350052, -0.04772069],\n",
       "       [-0.01719459, -0.04772069],\n",
       "       [-1.73665348, -1.37329531],\n",
       "       [-0.30377107, -0.84306546],\n",
       "       [ 1.12911134,  0.74762409],\n",
       "       [-0.59034755, -0.04772069],\n",
       "       [-0.59034755, -1.10818038],\n",
       "       [-2.02322996, -1.10818038],\n",
       "       [ 2.27541727,  1.54296886],\n",
       "       [ 1.98884078,  2.60342856],\n",
       "       [ 1.12911134,  1.27785394],\n",
       "       [ 0.26938189,  0.21739424],\n",
       "       [ 1.98884078,  1.01273901],\n",
       "       [ 0.26938189,  1.01273901],\n",
       "       [ 1.12911134, -0.04772069],\n",
       "       [ 0.26938189,  0.74762409],\n",
       "       [-1.16350052,  0.48250916],\n",
       "       [ 0.26938189, -0.31283561],\n",
       "       [-0.59034755, -0.04772069],\n",
       "       [-0.01719459, -1.10818038],\n",
       "       [-0.01719459, -0.04772069],\n",
       "       [ 0.55595837,  0.21739424],\n",
       "       [ 0.55595837, -0.04772069],\n",
       "       [-0.87692403, -0.57795054],\n",
       "       [-0.59034755, -0.84306546],\n",
       "       [ 1.12911134, -0.04772069],\n",
       "       [ 0.55595837,  1.80808378],\n",
       "       [ 1.41568782,  2.07319871],\n",
       "       [-0.30377107, -0.84306546],\n",
       "       [-0.01719459, -0.57795054],\n",
       "       [ 1.41568782,  0.21739424],\n",
       "       [-0.30377107, -0.84306546],\n",
       "       [-1.73665348, -1.10818038],\n",
       "       [ 0.26938189, -0.04772069],\n",
       "       [-0.01719459,  0.21739424],\n",
       "       [-1.450077  , -2.96398485],\n",
       "       [-1.73665348, -0.57795054],\n",
       "       [-0.01719459,  0.21739424],\n",
       "       [ 0.26938189,  1.01273901],\n",
       "       [-0.59034755, -1.10818038],\n",
       "       [ 0.26938189,  1.01273901],\n",
       "       [-1.16350052, -0.57795054],\n",
       "       [ 0.84253486,  0.74762409],\n",
       "       [-0.01719459, -0.31283561]])"
      ]
     },
     "execution_count": 36,
     "metadata": {},
     "output_type": "execute_result"
    }
   ],
   "source": [
    "# Transformación de la muestra inicial (X) Escalado Estándar\n",
    "from sklearn.preprocessing import StandardScaler\n",
    "# El Standard Scaler elimina la media y escala a la varianza unitaria:\n",
    "StandardScaler().fit(X).transform(X)"
   ]
  },
  {
   "cell_type": "code",
   "execution_count": 54,
   "metadata": {},
   "outputs": [
    {
     "name": "stdout",
     "output_type": "stream",
     "text": [
      "𝜇 de x0: 5.01 y S de x0: 0.35\n",
      "(x-𝜇)/S => (5.1 - 5.01)/0.35 = 0.2694\n",
      "Valor transformado de 5.1 es 0.2694\n"
     ]
    }
   ],
   "source": [
    "# Comprobar valores transformados\n",
    "import numpy as np\n",
    "x0_mean = np.mean(x0)\n",
    "x0_s = np.std(x0)\n",
    "print(f\"𝜇 de x0: {x0_mean:.2f} y S de x0: {x0_s:.2f}\")\n",
    "print(\"(x-𝜇)/S => (5.1 - 5.01)/0.35 = 0.2694\")\n",
    "print(f\"Valor transformado de 5.1 es {((5.1-x0_mean)/x0_s):0.4f}\")"
   ]
  },
  {
   "cell_type": "markdown",
   "metadata": {},
   "source": [
    "##### Pipelines\n",
    "Los transformadores y estimadores se pueden combinar utilizando un Pipeline.\n",
    "\n",
    "Podemos utilizar un pipeline para dividir los datos de una muestra en datos de entrenamiento y test."
   ]
  },
  {
   "cell_type": "code",
   "execution_count": 60,
   "metadata": {},
   "outputs": [
    {
     "name": "stdout",
     "output_type": "stream",
     "text": [
      "The accuracy of the estimation is 97.37 %\n"
     ]
    }
   ],
   "source": [
    "# Pipeline que realiza varios ajustes y transformaciones sobre los datos de prueba\n",
    "from sklearn.preprocessing import StandardScaler\n",
    "from sklearn.linear_model import LogisticRegression\n",
    "from sklearn.pipeline import make_pipeline\n",
    "from sklearn.datasets import load_iris\n",
    "from sklearn.model_selection import train_test_split\n",
    "from sklearn.metrics import accuracy_score\n",
    "\n",
    "pipe = make_pipeline(\n",
    "  StandardScaler(),\n",
    "  LogisticRegression()\n",
    ")\n",
    "# load dataset X = sample data, y = results of sample data\n",
    "X, y = load_iris(return_X_y=True)\n",
    "# Split X, y in train and test data\n",
    "X_train, X_test, y_train, y_test = train_test_split(X, y, random_state=0)\n",
    "# Fit th whole pipeline (standarScaler and LogisticRegression)\n",
    "pipe.fit(X_train, y_train)\n",
    "\n",
    "# Try some predictions (with the test data) and show the level of accuracy\n",
    "accuracy = accuracy_score(pipe.predict(X_test), y_test)\n",
    "print(f\"The accuracy of the estimation is {(accuracy*100):.2f} %\")"
   ]
  },
  {
   "attachments": {
    "image.png": {
     "image/png": "[encoded data removed]"
    }
   },
   "cell_type": "markdown",
   "metadata": {},
   "source": [
    "##### Evaluación del modelo\n",
    "Sckit ofrece múltiples herramientas para la validación del modelo:\n",
    "* train_test_split -> divide el conjunto de datos original en conjunto de entrenamiento y prueba\n",
    "* accuracy_score -> obtiene la precisión de las predicciones\n",
    "\n",
    "![image.png](attachment:image.png)"
   ]
  },
  {
   "cell_type": "code",
   "execution_count": 65,
   "metadata": {},
   "outputs": [
    {
     "name": "stdout",
     "output_type": "stream",
     "text": [
      "Conjunto de datos de entrenamiento: \n",
      " [[ 0.41929687 -1.5489299   0.65218686 ... -0.81368398 -2.03884275\n",
      "   0.90000294]\n",
      " [-2.06947249  0.72712806  0.0975975  ... -0.35978104 -0.74513907\n",
      "  -0.55050613]\n",
      " [-0.37595997  0.66414405  1.02239232 ...  0.50481546 -2.83201187\n",
      "  -0.79978614]\n",
      " ...\n",
      " [-0.7719197  -1.33667649 -0.72733814 ... -0.59830311 -0.60986158\n",
      "   1.69242973]\n",
      " [ 0.67198393 -1.50733364  1.17622157 ...  2.05921537 -1.11140442\n",
      "   0.01787532]\n",
      " [ 1.10334268 -0.59531919 -0.29831814 ... -0.89706521 -0.11546748\n",
      "  -1.299286  ]]\n",
      "Resultados de la validación cruzada : \n",
      " {'fit_time': array([0.00641608, 0.00775599, 0.00634003, 0.00627899, 0.00905299]), 'score_time': array([0.00083995, 0.00088406, 0.00084376, 0.00098205, 0.00099301]), 'test_score': array([1., 1., 1., 1., 1.])}\n"
     ]
    }
   ],
   "source": [
    "# Evaluación cruzada utilizando Regresión Lineal\n",
    "from sklearn.datasets import make_regression\n",
    "from sklearn.linear_model import LinearRegression\n",
    "from sklearn.model_selection import cross_validate\n",
    "X, y = make_regression(n_samples=1000, random_state=0)\n",
    "print(\"Conjunto de datos de entrenamiento: \\n\", X)\n",
    "linearRegression = LinearRegression()\n",
    "result = cross_validate(estimator=linearRegression, X=X, y=y)\n",
    "print(\"Resultados de la validación cruzada : \\n\", result)"
   ]
  },
  {
   "cell_type": "markdown",
   "metadata": {},
   "source": [
    "##### Búsqueda de parámetros de los estimadores\n",
    "Los estimadores tiene parámetros (hiperparámetros) que se pueden ajustar manualmente.\n",
    "Ej. RandomForestRegression tiene los siguientes parámetros:\n",
    "* n_estimators -> número de árboles a utilizar\n",
    "* max_depth -> profundidad máxima de cada árbol\n"
   ]
  },
  {
   "cell_type": "code",
   "execution_count": 68,
   "metadata": {},
   "outputs": [
    {
     "name": "stdout",
     "output_type": "stream",
     "text": [
      "Los parámetros que mejor ajustan son: \n",
      "\n",
      "\t- Profundidad: 9 \n",
      "\n",
      "\t- Nº de estimadores: 4 \n",
      "\n"
     ]
    }
   ],
   "source": [
    "# Busqueda aleatoria de Validación Cruzada RandomizedSearchCV\n",
    "from sklearn.model_selection import RandomizedSearchCV\n",
    "from sklearn.datasets import fetch_california_housing\n",
    "from sklearn.ensemble import RandomForestRegressor\n",
    "from sklearn.model_selection import train_test_split\n",
    "from scipy.stats import randint\n",
    "\n",
    "X, y = fetch_california_housing(return_X_y=True)\n",
    "X_train, X_test, y_train, y_test = train_test_split(X, y, random_state=0)\n",
    "# Asignar un valor aleatorio a los parámetros entre los posibles\n",
    "params = {\n",
    "  'n_estimators': randint(1, 5),\n",
    "  'max_depth': randint(5, 10)\n",
    "}\n",
    "# Crear un modelo que ajuste los parámetros para el estimador RandomForest, \n",
    "# partiendo del valor de parámetros obtenido utilizando 5 iteraciones\n",
    "search = RandomizedSearchCV(\n",
    "  estimator=RandomForestRegressor(random_state=0),\n",
    "  n_iter=5,\n",
    "  param_distributions=params,\n",
    "  random_state=0\n",
    ")\n",
    "# Ajustar el modelo obtenido a los valores de entrenamiento\n",
    "search.fit(X_train, y_train)\n",
    "# como resultado tenemos que los parámetros que mejor funcionan son\n",
    "print(\"Los parámetros que mejor ajustan son: \\n\")\n",
    "print(f\"\\t- Profundidad: {search.best_params_['max_depth']} \\n\")\n",
    "print(f\"\\t- Nº de estimadores: {search.best_params_['n_estimators']} \\n\")\n",
    "# \n"
   ]
  }
 ],
 "metadata": {
  "kernelspec": {
   "display_name": "base",
   "language": "python",
   "name": "python3"
  },
  "language_info": {
   "codemirror_mode": {
    "name": "ipython",
    "version": 3
   },
   "file_extension": ".py",
   "mimetype": "text/x-python",
   "name": "python",
   "nbconvert_exporter": "python",
   "pygments_lexer": "ipython3",
   "version": "3.11.5"
  }
 },
 "nbformat": 4,
 "nbformat_minor": 2
}
