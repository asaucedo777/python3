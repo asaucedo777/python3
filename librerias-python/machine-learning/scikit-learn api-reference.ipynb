{
 "cells": [
  {
   "cell_type": "markdown",
   "metadata": {},
   "source": [
    "**SCIKIT API Reference**"
   ]
  },
  {
   "cell_type": "code",
   "execution_count": 1,
   "metadata": {},
   "outputs": [
    {
     "data": {
      "text/plain": [
       "{'assume_finite': False,\n",
       " 'working_memory': 1024,\n",
       " 'print_changed_only': True,\n",
       " 'display': 'diagram',\n",
       " 'pairwise_dist_chunk_size': 256,\n",
       " 'enable_cython_pairwise_dist': True,\n",
       " 'array_api_dispatch': False,\n",
       " 'transform_output': 'default',\n",
       " 'enable_metadata_routing': False,\n",
       " 'skip_parameter_validation': False}"
      ]
     },
     "execution_count": 1,
     "metadata": {},
     "output_type": "execute_result"
    }
   ],
   "source": [
    "# sklearn config\n",
    "import sklearn._config as skl\n",
    "skl.get_config()"
   ]
  },
  {
   "cell_type": "code",
   "execution_count": 2,
   "metadata": {},
   "outputs": [
    {
     "name": "stdout",
     "output_type": "stream",
     "text": [
      "{'mean': 5}\n",
      "[5 5 5]\n",
      "Valores de la feature1:\n",
      " [[1]\n",
      " [2]\n",
      " [3]]\n",
      "Valores de la feature2:\n",
      " [[2]\n",
      " [3]\n",
      " [4]]\n",
      "[2. 2. 2.]\n"
     ]
    }
   ],
   "source": [
    "# Estimators\n",
    "import numpy as np\n",
    "from sklearn.base import BaseEstimator\n",
    "# Definición de Estimador custom que utiliza un valor fijo para realizar predicciones\n",
    "class MyEstimator(BaseEstimator):\n",
    "  def __init__(self, *, mean):\n",
    "    self.mean = mean\n",
    "  def fit(self, X, y=None):\n",
    "    self.is_fitted_ = True\n",
    "    return self\n",
    "  def predict(self, X):\n",
    "    # Retorna una matriz unidimensional con tantos valores como muestras del conjunto\n",
    "    # de datos y cada valor corresponde al parámetro 'mean'\n",
    "    return np.full(shape=X.shape[0], fill_value=self.mean)\n",
    "# Ejemplo de uso\n",
    "estimator = MyEstimator(mean=5)\n",
    "print(estimator.get_params())\n",
    "X = np.array([\n",
    "  [1, 2],\n",
    "  [2, 3],\n",
    "  [3, 4],\n",
    "])\n",
    "y = np.array([\n",
    "  1,\n",
    "  0,\n",
    "  1\n",
    "])\n",
    "# Ajusto al modelo sin parametrizar (mean por defecto es 5)\n",
    "result = estimator.fit(X, y).predict(X)\n",
    "# La predicción es 5\n",
    "print(result)\n",
    "X_feature1 = X[0:,0:1]\n",
    "X_feature2 = X[0:,1:2]\n",
    "print(\"Valores de la feature1:\\n\", X_feature1)\n",
    "print(\"Valores de la feature2:\\n\", X_feature2)\n",
    "X_feature1_mean = np.mean(X_feature1)\n",
    "X_feature2_mean = np.mean(X_feature2)\n",
    "# Establezco parámetro mean a la media de la feature1 y vuelvo a ajustar\n",
    "result = estimator.set_params(mean=X_feature1_mean).fit(X, y).predict(X)\n",
    "# La predicción es 2 (media de la feature1)\n",
    "print(result)"
   ]
  },
  {
   "cell_type": "code",
   "execution_count": 3,
   "metadata": {},
   "outputs": [
    {
     "name": "stdout",
     "output_type": "stream",
     "text": [
      "Metadata: {}\n",
      "Parameters: {'mean': np.float64(2.0)}\n"
     ]
    }
   ],
   "source": [
    "# Otros métodos interesantes de los estimadores\n",
    "print(f\"Metadata: {estimator.get_metadata_routing()}\")\n",
    "print(f\"Parameters: {estimator.get_params()}\")"
   ]
  },
  {
   "cell_type": "code",
   "execution_count": 4,
   "metadata": {},
   "outputs": [
    {
     "name": "stdout",
     "output_type": "stream",
     "text": [
      "Predición realizada por clasificador: [1 1 1]\n",
      "Precisión de la predicción: 0.67 %\n",
      "Media de errores absolutos: 0.33\n"
     ]
    }
   ],
   "source": [
    "# Classifiers\n",
    "from sklearn.base import ClassifierMixin\n",
    "class MyClassifier(ClassifierMixin, BaseEstimator):\n",
    "  def __init__(self, *, mean=5):\n",
    "    self.mean = mean\n",
    "  def fit(self, X, y=None):\n",
    "    self.is_fitted = True\n",
    "    return self\n",
    "  def predict(self, X):\n",
    "    return np.full(shape=X.shape[0], fill_value=self.mean)\n",
    "classifier = MyClassifier(mean=1)\n",
    "predict1 = classifier.fit(X, y).predict(X)\n",
    "print(f\"Predición realizada por clasificador: {predict1}\")\n",
    "score = classifier.score(X, y)\n",
    "print(f\"Precisión de la predicción: {score:.2f} %\")\n",
    "# Medición del error\n",
    "from sklearn.metrics import mean_absolute_error\n",
    "mae = mean_absolute_error(y, predict1)\n",
    "print(f\"Media de errores absolutos: {mae:.2f}\")"
   ]
  },
  {
   "cell_type": "code",
   "execution_count": 5,
   "metadata": {},
   "outputs": [
    {
     "name": "stdout",
     "output_type": "stream",
     "text": [
      "X antes de transformar\n",
      " [[1 2]\n",
      " [2 3]\n",
      " [3 4]]\n",
      "X tras de transformar\n",
      " [[0.01 0.02]\n",
      " [0.02 0.03]\n",
      " [0.03 0.04]]\n"
     ]
    }
   ],
   "source": [
    "# Transformers\n",
    "from sklearn.base import TransformerMixin\n",
    "class MyTransform(TransformerMixin, BaseEstimator):\n",
    "  def __init__(self, *, filled=0):\n",
    "    self.filled = filled\n",
    "  def fit(self, X, y=None):\n",
    "    return self\n",
    "  def transform(self, X):\n",
    "    return X / 100\n",
    "transform = MyTransform()\n",
    "print(\"X antes de transformar\\n\", X)\n",
    "X_ = transform.fit_transform(X)\n",
    "print(\"X tras de transformar\\n\", X_)"
   ]
  }
 ],
 "metadata": {
  "kernelspec": {
   "display_name": "Python 3",
   "language": "python",
   "name": "python3"
  },
  "language_info": {
   "codemirror_mode": {
    "name": "ipython",
    "version": 3
   },
   "file_extension": ".py",
   "mimetype": "text/x-python",
   "name": "python",
   "nbconvert_exporter": "python",
   "pygments_lexer": "ipython3",
   "version": "3.9.6"
  }
 },
 "nbformat": 4,
 "nbformat_minor": 2
}
