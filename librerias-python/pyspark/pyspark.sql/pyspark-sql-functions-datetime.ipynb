{
 "cells": [
  {
   "cell_type": "markdown",
   "id": "4b7fdd67",
   "metadata": {},
   "source": [
    "**PYSPARK SQL FUNCTIONS DATETIME**"
   ]
  },
  {
   "cell_type": "code",
   "execution_count": 12,
   "id": "3dddd2d8",
   "metadata": {},
   "outputs": [
    {
     "data": {
      "text/html": [
       "<div>\n",
       "<style scoped>\n",
       "    .dataframe tbody tr th:only-of-type {\n",
       "        vertical-align: middle;\n",
       "    }\n",
       "\n",
       "    .dataframe tbody tr th {\n",
       "        vertical-align: top;\n",
       "    }\n",
       "\n",
       "    .dataframe thead th {\n",
       "        text-align: right;\n",
       "    }\n",
       "</style>\n",
       "<table border=\"1\" class=\"dataframe\">\n",
       "  <thead>\n",
       "    <tr style=\"text-align: right;\">\n",
       "      <th></th>\n",
       "      <th>Producto</th>\n",
       "      <th>Fecha</th>\n",
       "      <th>Timestamp</th>\n",
       "      <th>Ventas</th>\n",
       "    </tr>\n",
       "  </thead>\n",
       "  <tbody>\n",
       "    <tr>\n",
       "      <th>0</th>\n",
       "      <td>Producto1</td>\n",
       "      <td>2023-07-01</td>\n",
       "      <td>2023-07-01 23:59:59</td>\n",
       "      <td>100</td>\n",
       "    </tr>\n",
       "    <tr>\n",
       "      <th>1</th>\n",
       "      <td>Producto1</td>\n",
       "      <td>2023-07-02</td>\n",
       "      <td>2023-07-02 23:59:59</td>\n",
       "      <td>150</td>\n",
       "    </tr>\n",
       "    <tr>\n",
       "      <th>2</th>\n",
       "      <td>Producto1</td>\n",
       "      <td>2023-07-03</td>\n",
       "      <td>2023-07-03 23:59:59</td>\n",
       "      <td>120</td>\n",
       "    </tr>\n",
       "    <tr>\n",
       "      <th>3</th>\n",
       "      <td>Producto2</td>\n",
       "      <td>2023-07-01</td>\n",
       "      <td>2023-07-01 23:59:59</td>\n",
       "      <td>50</td>\n",
       "    </tr>\n",
       "    <tr>\n",
       "      <th>4</th>\n",
       "      <td>Producto2</td>\n",
       "      <td>2023-07-02</td>\n",
       "      <td>2023-07-02 23:59:59</td>\n",
       "      <td>80</td>\n",
       "    </tr>\n",
       "  </tbody>\n",
       "</table>\n",
       "</div>"
      ],
      "text/plain": [
       "    Producto       Fecha            Timestamp  Ventas\n",
       "0  Producto1  2023-07-01  2023-07-01 23:59:59     100\n",
       "1  Producto1  2023-07-02  2023-07-02 23:59:59     150\n",
       "2  Producto1  2023-07-03  2023-07-03 23:59:59     120\n",
       "3  Producto2  2023-07-01  2023-07-01 23:59:59      50\n",
       "4  Producto2  2023-07-02  2023-07-02 23:59:59      80"
      ]
     },
     "execution_count": 12,
     "metadata": {},
     "output_type": "execute_result"
    }
   ],
   "source": [
    "# Create dummy data from dictionary\n",
    "import pandas as pd\n",
    "ventas = [\n",
    "    (\"Producto1\", \"2023-07-01\", \"2023-07-01 23:59:59\", 100),\n",
    "    (\"Producto1\", \"2023-07-02\", \"2023-07-02 23:59:59\", 150),\n",
    "    (\"Producto1\", \"2023-07-03\", \"2023-07-03 23:59:59\", 120),\n",
    "    (\"Producto2\", \"2023-07-01\", \"2023-07-01 23:59:59\", 50),\n",
    "    (\"Producto2\", \"2023-07-02\", \"2023-07-02 23:59:59\", 80),\n",
    "    (\"Producto2\", \"2023-07-03\", \"2023-07-03 23:59:59\", 70),\n",
    "    (\"Producto3\", \"2023-09-22\", \"2023-09-22 23:59:59\", 70),\n",
    "]\n",
    "schema = [\"Producto\", \"Fecha\", \"Timestamp\", \"Ventas\"]\n",
    "df = pd.DataFrame(ventas, columns=schema)\n",
    "df.head()\n"
   ]
  },
  {
   "cell_type": "code",
   "execution_count": 13,
   "id": "7c2210b3",
   "metadata": {},
   "outputs": [],
   "source": [
    "# Write df in csv file\n",
    "df.to_csv('ventas.csv', index=False)"
   ]
  },
  {
   "cell_type": "code",
   "execution_count": 14,
   "id": "1b8a53a0",
   "metadata": {},
   "outputs": [
    {
     "name": "stdout",
     "output_type": "stream",
     "text": [
      "+---------+----------+-------------------+------+\n",
      "| Producto|     Fecha|          Timestamp|Ventas|\n",
      "+---------+----------+-------------------+------+\n",
      "|Producto1|2023-07-01|2023-07-01 23:59:59|   100|\n",
      "|Producto1|2023-07-02|2023-07-02 23:59:59|   150|\n",
      "|Producto1|2023-07-03|2023-07-03 23:59:59|   120|\n",
      "|Producto2|2023-07-01|2023-07-01 23:59:59|    50|\n",
      "|Producto2|2023-07-02|2023-07-02 23:59:59|    80|\n",
      "|Producto2|2023-07-03|2023-07-03 23:59:59|    70|\n",
      "|Producto3|2023-09-22|2023-09-22 23:59:59|    70|\n",
      "+---------+----------+-------------------+------+\n",
      "\n"
     ]
    }
   ],
   "source": [
    "# Crear una sesión de Spark\n",
    "from pyspark.sql import SparkSession\n",
    "spark = SparkSession.builder.appName(\"EjemploFuncionesFechaHora\").getOrCreate()\n",
    "ventasDF = spark.read.csv('ventas.csv', header=True, inferSchema=True)\n",
    "ventasDF.show()"
   ]
  },
  {
   "cell_type": "code",
   "execution_count": 15,
   "id": "e98c99a2",
   "metadata": {},
   "outputs": [
    {
     "name": "stdout",
     "output_type": "stream",
     "text": [
      "+---------+----------+-------------------+------+----------------+------------------+\n",
      "| Producto|     Fecha|          Timestamp|Ventas|Fecha_dd/MM/yyyy|Fecha_otro_formato|\n",
      "+---------+----------+-------------------+------+----------------+------------------+\n",
      "|Producto1|2023-07-01|2023-07-01 23:59:59|   100|      01/07/2023|      Jul 01, 2023|\n",
      "|Producto1|2023-07-02|2023-07-02 23:59:59|   150|      02/07/2023|      Jul 02, 2023|\n",
      "|Producto1|2023-07-03|2023-07-03 23:59:59|   120|      03/07/2023|      Jul 03, 2023|\n",
      "|Producto2|2023-07-01|2023-07-01 23:59:59|    50|      01/07/2023|      Jul 01, 2023|\n",
      "|Producto2|2023-07-02|2023-07-02 23:59:59|    80|      02/07/2023|      Jul 02, 2023|\n",
      "|Producto2|2023-07-03|2023-07-03 23:59:59|    70|      03/07/2023|      Jul 03, 2023|\n",
      "|Producto3|2023-09-22|2023-09-22 23:59:59|    70|      22/09/2023|      Sep 22, 2023|\n",
      "+---------+----------+-------------------+------+----------------+------------------+\n",
      "\n"
     ]
    }
   ],
   "source": [
    "# date with specific format (date_format)\n",
    "from pyspark.sql.functions import col, date_format, to_date, datediff, date_add, date_sub\n",
    "ventasDF = ventasDF.withColumn(\"Fecha_dd/MM/yyyy\", date_format(col(\"Fecha\"), \"dd/MM/yyyy\"))\n",
    "ventasDF = ventasDF.withColumn(\"Fecha_otro_formato\", date_format(col(\"Fecha\"), \"MMM dd, yyyy\"))\n",
    "ventasDF.show()"
   ]
  },
  {
   "cell_type": "markdown",
   "id": "dfc80e1b",
   "metadata": {},
   "source": [
    "En PySpark, la función date_format te permite formatear fechas en un DataFrame de acuerdo a un patrón específico. Aquí tienes algunas opciones comunes de formateo de fechas utilizando esta función:\n",
    "\n",
    "dd/MM/yyyy: Este formato mostrará el día del mes con dos dígitos, seguido del mes con dos dígitos y el año con cuatro dígitos, separados por barras diagonales. Por ejemplo, \"22/09/2023\".\n",
    "\n",
    "MM/dd/yyyy: Este formato mostrará el mes con dos dígitos, seguido del día del mes con dos dígitos y el año con cuatro dígitos, separados por barras diagonales. Por ejemplo, \"09/22/2023\".\n",
    "\n",
    "yyyy-MM-dd: Este formato mostrará el año con cuatro dígitos, seguido del mes con dos dígitos y el día del mes con dos dígitos, separados por guiones. Por ejemplo, \"2023-09-22\".\n",
    "\n",
    "dd-MM-yyyy: Este formato mostrará el día del mes con dos dígitos, seguido del mes con dos dígitos y el año con cuatro dígitos, separados por guiones. Por ejemplo, \"22-09-2023\".\n",
    "\n",
    "MMM dd, yyyy: Este formato mostrará el nombre abreviado del mes, seguido del día del mes con dos dígitos y el año con cuatro dígitos, separados por comas y espacio. Por ejemplo, \"Sep 22, 2023\".\n",
    "\n",
    "EEEE, dd MMMM yyyy: Este formato mostrará el nombre completo del día de la semana, seguido del día del mes con dos dígitos, el nombre completo del mes y el año con cuatro dígitos, separados por comas y espacio. Por ejemplo, \"Thursday, 22 September 2023\".\n",
    "\n",
    "hh:mm:ss a: Este formato mostrará la hora en formato de 12 horas con dos dígitos, los minutos con dos dígitos, los segundos con dos dígitos y AM o PM. Por ejemplo, \"03:45:20 PM\".\n",
    "\n",
    "HH:mm:ss: Este formato mostrará la hora en formato de 24 horas con dos dígitos, los minutos con dos dígitos y los segundos con dos dígitos. Por ejemplo, \"15:45:20\".\n",
    "\n",
    "yyyy-MM-dd HH:mm:ss: Este formato combina el formato de fecha \"yyyy-MM-dd\" con el formato de hora \"HH:mm:ss\", separados por un espacio. Por ejemplo, \"2023-09-22 15:45:20\".\n",
    "\n",
    "yy-MM-dd: Este formato muestra el año en formato de dos dígitos, seguido del mes con dos dígitos y el día del mes con dos dígitos, separados por guiones. Por ejemplo, \"23-09-22\"."
   ]
  },
  {
   "cell_type": "code",
   "execution_count": 16,
   "id": "8291cada",
   "metadata": {},
   "outputs": [
    {
     "name": "stdout",
     "output_type": "stream",
     "text": [
      "+---------+----------+-------------------+------+----------------+------------------+------------+\n",
      "| Producto|     Fecha|          Timestamp|Ventas|Fecha_dd/MM/yyyy|Fecha_otro_formato|Text_To_Date|\n",
      "+---------+----------+-------------------+------+----------------+------------------+------------+\n",
      "|Producto1|2023-07-01|2023-07-01 23:59:59|   100|      01/07/2023|      Jul 01, 2023|  2023-07-01|\n",
      "|Producto1|2023-07-02|2023-07-02 23:59:59|   150|      02/07/2023|      Jul 02, 2023|  2023-07-02|\n",
      "|Producto1|2023-07-03|2023-07-03 23:59:59|   120|      03/07/2023|      Jul 03, 2023|  2023-07-03|\n",
      "|Producto2|2023-07-01|2023-07-01 23:59:59|    50|      01/07/2023|      Jul 01, 2023|  2023-07-01|\n",
      "|Producto2|2023-07-02|2023-07-02 23:59:59|    80|      02/07/2023|      Jul 02, 2023|  2023-07-02|\n",
      "|Producto2|2023-07-03|2023-07-03 23:59:59|    70|      03/07/2023|      Jul 03, 2023|  2023-07-03|\n",
      "|Producto3|2023-09-22|2023-09-22 23:59:59|    70|      22/09/2023|      Sep 22, 2023|  2023-09-22|\n",
      "+---------+----------+-------------------+------+----------------+------------------+------------+\n",
      "\n"
     ]
    }
   ],
   "source": [
    "# to_date: Convierte cadenas de texto a DateType.\n",
    "ventasDF.withColumn(\"Text_To_Date\", to_date(col(\"Fecha\"), \"yyyy-MM-dd\")).show()"
   ]
  },
  {
   "cell_type": "code",
   "execution_count": 17,
   "id": "8af36805",
   "metadata": {},
   "outputs": [
    {
     "name": "stdout",
     "output_type": "stream",
     "text": [
      "+---------+----------+-------------------+------+----------------+------------------+---------------+\n",
      "| Producto|     Fecha|          Timestamp|Ventas|Fecha_dd/MM/yyyy|Fecha_otro_formato|DiasDesdeInicio|\n",
      "+---------+----------+-------------------+------+----------------+------------------+---------------+\n",
      "|Producto1|2023-07-01|2023-07-01 23:59:59|   100|      01/07/2023|      Jul 01, 2023|              0|\n",
      "|Producto1|2023-07-02|2023-07-02 23:59:59|   150|      02/07/2023|      Jul 02, 2023|              1|\n",
      "|Producto1|2023-07-03|2023-07-03 23:59:59|   120|      03/07/2023|      Jul 03, 2023|              2|\n",
      "|Producto2|2023-07-01|2023-07-01 23:59:59|    50|      01/07/2023|      Jul 01, 2023|              0|\n",
      "|Producto2|2023-07-02|2023-07-02 23:59:59|    80|      02/07/2023|      Jul 02, 2023|              1|\n",
      "|Producto2|2023-07-03|2023-07-03 23:59:59|    70|      03/07/2023|      Jul 03, 2023|              2|\n",
      "|Producto3|2023-09-22|2023-09-22 23:59:59|    70|      22/09/2023|      Sep 22, 2023|             83|\n",
      "+---------+----------+-------------------+------+----------------+------------------+---------------+\n",
      "\n"
     ]
    }
   ],
   "source": [
    "# datediff: Calcula la diferencia en días entre dos fechas.\n",
    "from pyspark.sql.functions import to_date, lit\n",
    "# Convertir la fecha literal en un objeto DateType\n",
    "fecha_inicio = to_date(lit('2023-07-01'), 'yyyy-MM-dd')\n",
    "# Calcular la diferencia en días entre la columna Fecha y la fecha de inicio\n",
    "ventasDF.withColumn(\"DiasDesdeInicio\", datediff(col(\"Fecha\"), fecha_inicio)).show()\n"
   ]
  },
  {
   "cell_type": "code",
   "execution_count": 18,
   "id": "78f5603c",
   "metadata": {},
   "outputs": [
    {
     "name": "stdout",
     "output_type": "stream",
     "text": [
      "+---------+----------+-------------------+------+----------------+------------------+-----------+------------+\n",
      "| Producto|     Fecha|          Timestamp|Ventas|Fecha_dd/MM/yyyy|Fecha_otro_formato|FechaSumada|FechaRestada|\n",
      "+---------+----------+-------------------+------+----------------+------------------+-----------+------------+\n",
      "|Producto1|2023-07-01|2023-07-01 23:59:59|   100|      01/07/2023|      Jul 01, 2023| 2023-07-08|  2023-06-28|\n",
      "|Producto1|2023-07-02|2023-07-02 23:59:59|   150|      02/07/2023|      Jul 02, 2023| 2023-07-09|  2023-06-29|\n",
      "|Producto1|2023-07-03|2023-07-03 23:59:59|   120|      03/07/2023|      Jul 03, 2023| 2023-07-10|  2023-06-30|\n",
      "|Producto2|2023-07-01|2023-07-01 23:59:59|    50|      01/07/2023|      Jul 01, 2023| 2023-07-08|  2023-06-28|\n",
      "|Producto2|2023-07-02|2023-07-02 23:59:59|    80|      02/07/2023|      Jul 02, 2023| 2023-07-09|  2023-06-29|\n",
      "|Producto2|2023-07-03|2023-07-03 23:59:59|    70|      03/07/2023|      Jul 03, 2023| 2023-07-10|  2023-06-30|\n",
      "|Producto3|2023-09-22|2023-09-22 23:59:59|    70|      22/09/2023|      Sep 22, 2023| 2023-09-29|  2023-09-19|\n",
      "+---------+----------+-------------------+------+----------------+------------------+-----------+------------+\n",
      "\n"
     ]
    }
   ],
   "source": [
    "# date_add y date_sub: Realiza operaciones aritméticas con fechas.\n",
    "ventasDF = ventasDF.withColumn(\"FechaSumada\", date_add(col(\"Fecha\"), 7))\n",
    "ventasDF.withColumn(\"FechaRestada\", date_sub(col(\"Fecha\"), 3)).show()"
   ]
  },
  {
   "cell_type": "code",
   "execution_count": 19,
   "id": "52277092",
   "metadata": {},
   "outputs": [
    {
     "name": "stdout",
     "output_type": "stream",
     "text": [
      "+---------+----------+-------------------+------+----------------+------------------+-----------+-------------------+----+------+------+\n",
      "| Producto|     Fecha|          Timestamp|Ventas|Fecha_dd/MM/yyyy|Fecha_otro_formato|FechaSumada|       Time Of Stop|Hour|Minute|Second|\n",
      "+---------+----------+-------------------+------+----------------+------------------+-----------+-------------------+----+------+------+\n",
      "|Producto1|2023-07-01|2023-07-01 23:59:59|   100|      01/07/2023|      Jul 01, 2023| 2023-07-08|2023-07-01 23:59:59|  23|    59|    59|\n",
      "|Producto1|2023-07-02|2023-07-02 23:59:59|   150|      02/07/2023|      Jul 02, 2023| 2023-07-09|2023-07-02 23:59:59|  23|    59|    59|\n",
      "|Producto1|2023-07-03|2023-07-03 23:59:59|   120|      03/07/2023|      Jul 03, 2023| 2023-07-10|2023-07-03 23:59:59|  23|    59|    59|\n",
      "|Producto2|2023-07-01|2023-07-01 23:59:59|    50|      01/07/2023|      Jul 01, 2023| 2023-07-08|2023-07-01 23:59:59|  23|    59|    59|\n",
      "|Producto2|2023-07-02|2023-07-02 23:59:59|    80|      02/07/2023|      Jul 02, 2023| 2023-07-09|2023-07-02 23:59:59|  23|    59|    59|\n",
      "|Producto2|2023-07-03|2023-07-03 23:59:59|    70|      03/07/2023|      Jul 03, 2023| 2023-07-10|2023-07-03 23:59:59|  23|    59|    59|\n",
      "|Producto3|2023-09-22|2023-09-22 23:59:59|    70|      22/09/2023|      Sep 22, 2023| 2023-09-29|2023-09-22 23:59:59|  23|    59|    59|\n",
      "+---------+----------+-------------------+------+----------------+------------------+-----------+-------------------+----+------+------+\n",
      "\n"
     ]
    }
   ],
   "source": [
    "from pyspark.sql.functions import to_timestamp, hour, minute, second\n",
    "ventasDF = ventasDF.withColumn(\"Time Of Stop\", to_timestamp(ventasDF[\"Timestamp\"], \"yyyy-MM-dd HH:mm:ss\"))\n",
    "# Obtener la hora, los minutos y los segundos de la columna \"Time Of Stop\"\n",
    "ventasDF = ventasDF.withColumn(\"Hour\", hour(\"Time Of Stop\"))\n",
    "ventasDF = ventasDF.withColumn(\"Minute\", minute(\"Time Of Stop\"))\n",
    "ventasDF = ventasDF.withColumn(\"Second\", second(\"Time Of Stop\"))\n",
    "ventasDF.show()"
   ]
  }
 ],
 "metadata": {
  "kernelspec": {
   "display_name": "Python 3 (ipykernel)",
   "language": "python",
   "name": "python3"
  },
  "language_info": {
   "codemirror_mode": {
    "name": "ipython",
    "version": 3
   },
   "file_extension": ".py",
   "mimetype": "text/x-python",
   "name": "python",
   "nbconvert_exporter": "python",
   "pygments_lexer": "ipython3",
   "version": "3.11.5"
  }
 },
 "nbformat": 4,
 "nbformat_minor": 5
}
