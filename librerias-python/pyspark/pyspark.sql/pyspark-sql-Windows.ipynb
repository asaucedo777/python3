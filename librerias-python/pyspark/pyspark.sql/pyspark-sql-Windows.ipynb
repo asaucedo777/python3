{
 "cells": [
  {
   "cell_type": "markdown",
   "metadata": {},
   "source": [
    "**PYSPARK SQL WINDOW**"
   ]
  },
  {
   "cell_type": "code",
   "execution_count": 18,
   "metadata": {},
   "outputs": [
    {
     "name": "stdout",
     "output_type": "stream",
     "text": [
      "+---+--------+------+--------+\n",
      "| id|producto|precio|cantidad|\n",
      "+---+--------+------+--------+\n",
      "|  1| Manzana|   1.2|       5|\n",
      "|  2|  Banana|   0.8|       3|\n",
      "|  3| Naranja|   1.0|       4|\n",
      "|  4|    Pera|   1.5|       2|\n",
      "|  5| Manzana|   1.2|       6|\n",
      "+---+--------+------+--------+\n",
      "\n"
     ]
    }
   ],
   "source": [
    "from pyspark.sql import SparkSession\n",
    "spark = SparkSession.builder.appName('app').getOrCreate()\n",
    "df = spark.read.csv('datos.csv', header=True, inferSchema=True)\n",
    "df.show()"
   ]
  },
  {
   "cell_type": "code",
   "execution_count": 19,
   "metadata": {},
   "outputs": [
    {
     "name": "stdout",
     "output_type": "stream",
     "text": [
      "+---+--------+------+--------+----------------------+\n",
      "| id|producto|precio|cantidad|row_number_by_producto|\n",
      "+---+--------+------+--------+----------------------+\n",
      "|  2|  Banana|   0.8|       3|                     1|\n",
      "|  1| Manzana|   1.2|       5|                     1|\n",
      "|  5| Manzana|   1.2|       6|                     2|\n",
      "|  3| Naranja|   1.0|       4|                     1|\n",
      "|  4|    Pera|   1.5|       2|                     1|\n",
      "+---+--------+------+--------+----------------------+\n",
      "\n"
     ]
    }
   ],
   "source": [
    "from pyspark.sql import Window\n",
    "import pyspark.sql.functions as F\n",
    "window = Window.partitionBy('producto').orderBy('id')\n",
    "df.withColumn('row_number_by_producto', F.row_number().over(window)).show()"
   ]
  },
  {
   "cell_type": "code",
   "execution_count": 20,
   "metadata": {},
   "outputs": [
    {
     "name": "stdout",
     "output_type": "stream",
     "text": [
      "+---+--------+------+--------+-----+\n",
      "| id|producto|precio|cantidad|total|\n",
      "+---+--------+------+--------+-----+\n",
      "|  1| Manzana|   1.2|       5|  6.0|\n",
      "|  2|  Banana|   0.8|       3|  2.4|\n",
      "|  3| Naranja|   1.0|       4|  4.0|\n",
      "|  4|    Pera|   1.5|       2|  3.0|\n",
      "|  5| Manzana|   1.2|       6|  7.2|\n",
      "+---+--------+------+--------+-----+\n",
      "\n"
     ]
    }
   ],
   "source": [
    "df = df.withColumn('total', F.round(df.precio * df.cantidad, 2))\n",
    "df.show()"
   ]
  },
  {
   "cell_type": "code",
   "execution_count": 21,
   "metadata": {},
   "outputs": [
    {
     "name": "stdout",
     "output_type": "stream",
     "text": [
      "+---+--------+------+--------+-----+---------+\n",
      "| id|producto|precio|cantidad|total|totalAcum|\n",
      "+---+--------+------+--------+-----+---------+\n",
      "|  2|  Banana|   0.8|       3|  2.4|      2.4|\n",
      "|  1| Manzana|   1.2|       5|  6.0|      6.0|\n",
      "|  5| Manzana|   1.2|       6|  7.2|     13.2|\n",
      "|  3| Naranja|   1.0|       4|  4.0|      4.0|\n",
      "|  4|    Pera|   1.5|       2|  3.0|      3.0|\n",
      "+---+--------+------+--------+-----+---------+\n",
      "\n"
     ]
    }
   ],
   "source": [
    "df.withColumn('totalAcum', F.sum('total').over(window)).show()"
   ]
  }
 ],
 "metadata": {
  "kernelspec": {
   "display_name": "base",
   "language": "python",
   "name": "python3"
  },
  "language_info": {
   "codemirror_mode": {
    "name": "ipython",
    "version": 3
   },
   "file_extension": ".py",
   "mimetype": "text/x-python",
   "name": "python",
   "nbconvert_exporter": "python",
   "pygments_lexer": "ipython3",
   "version": "3.11.5"
  }
 },
 "nbformat": 4,
 "nbformat_minor": 2
}
