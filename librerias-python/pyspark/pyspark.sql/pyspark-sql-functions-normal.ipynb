{
 "cells": [
  {
   "cell_type": "markdown",
   "metadata": {},
   "source": [
    "**PYSPARK SQL**"
   ]
  },
  {
   "cell_type": "code",
   "execution_count": 2,
   "metadata": {},
   "outputs": [
    {
     "name": "stderr",
     "output_type": "stream",
     "text": [
      "Setting default log level to \"WARN\".\n",
      "To adjust logging level use sc.setLogLevel(newLevel). For SparkR, use setLogLevel(newLevel).\n",
      "24/05/08 10:13:24 WARN NativeCodeLoader: Unable to load native-hadoop library for your platform... using builtin-java classes where applicable\n"
     ]
    },
    {
     "name": "stdout",
     "output_type": "stream",
     "text": [
      "+---+--------+------+--------+\n",
      "| id|producto|precio|cantidad|\n",
      "+---+--------+------+--------+\n",
      "|  1| Manzana|   1.2|       5|\n",
      "|  2|  Banana|   0.8|       3|\n",
      "|  3| Naranja|   1.0|       4|\n",
      "|  4|    Pera|   1.5|       2|\n",
      "|  5| Manzana|   1.2|       6|\n",
      "+---+--------+------+--------+\n",
      "\n"
     ]
    }
   ],
   "source": [
    "from pyspark.sql import SparkSession\n",
    "spark = SparkSession.builder.appName('app').getOrCreate()\n",
    "df = spark.read.csv('datos.csv', header=True, inferSchema=True)\n",
    "df.show()"
   ]
  },
  {
   "cell_type": "code",
   "execution_count": 14,
   "metadata": {},
   "outputs": [
    {
     "data": {
      "text/plain": [
       "pyspark.sql.dataframe.DataFrame"
      ]
     },
     "execution_count": 14,
     "metadata": {},
     "output_type": "execute_result"
    }
   ],
   "source": [
    "# pyspark.sql.dataframe.DataFrame\n",
    "type(df)"
   ]
  },
  {
   "cell_type": "code",
   "execution_count": 3,
   "metadata": {},
   "outputs": [
    {
     "name": "stdout",
     "output_type": "stream",
     "text": [
      "+--------+--------+\n",
      "|producto|longitud|\n",
      "+--------+--------+\n",
      "| Manzana|       7|\n",
      "|  Banana|       6|\n",
      "| Naranja|       7|\n",
      "|    Pera|       4|\n",
      "| Manzana|       7|\n",
      "+--------+--------+\n",
      "\n"
     ]
    }
   ],
   "source": [
    "# pyspark sql functions: select, col, expr, \n",
    "import pyspark.sql.functions as F\n",
    "df.select(F.col('producto'), F.expr('length(producto)').alias('longitud')).show()"
   ]
  },
  {
   "cell_type": "code",
   "execution_count": 4,
   "metadata": {},
   "outputs": [
    {
     "name": "stdout",
     "output_type": "stream",
     "text": [
      "+----------+---+\n",
      "|     Texto| id|\n",
      "+----------+---+\n",
      "|texto fijo|  1|\n",
      "|texto fijo|  2|\n",
      "|texto fijo|  3|\n",
      "|texto fijo|  4|\n",
      "|texto fijo|  5|\n",
      "+----------+---+\n",
      "\n"
     ]
    }
   ],
   "source": [
    "# Literal lit\n",
    "df.select(F.lit('texto fijo').alias('Texto'), df.id).show()"
   ]
  },
  {
   "cell_type": "code",
   "execution_count": 7,
   "metadata": {},
   "outputs": [
    {
     "name": "stdout",
     "output_type": "stream",
     "text": [
      "+--------+--------------+-------------+\n",
      "|producto|total_cantidad|mean_cantidad|\n",
      "+--------+--------------+-------------+\n",
      "| Naranja|             4|          4.0|\n",
      "|  Banana|             3|          3.0|\n",
      "|    Pera|             2|          2.0|\n",
      "| Manzana|            11|          5.5|\n",
      "+--------+--------------+-------------+\n",
      "\n"
     ]
    }
   ],
   "source": [
    "# group data (groupby)\n",
    "grouped_df = df.groupby('producto').agg(F.sum('cantidad').alias('total_cantidad'), F.mean('cantidad').alias('mean_cantidad'))\n",
    "grouped_df.show()"
   ]
  },
  {
   "cell_type": "code",
   "execution_count": 9,
   "metadata": {},
   "outputs": [
    {
     "name": "stdout",
     "output_type": "stream",
     "text": [
      "+------------------+\n",
      "|       avg(precio)|\n",
      "+------------------+\n",
      "|1.1400000000000001|\n",
      "+------------------+\n",
      "\n"
     ]
    }
   ],
   "source": [
    "# aggregate data\n",
    "avg_price = df.agg(F.avg('precio'))\n",
    "avg_price.show()"
   ]
  },
  {
   "cell_type": "code",
   "execution_count": 10,
   "metadata": {},
   "outputs": [
    {
     "name": "stdout",
     "output_type": "stream",
     "text": [
      "+---+--------+------+--------+\n",
      "| id|producto|precio|cantidad|\n",
      "+---+--------+------+--------+\n",
      "|  2|  Banana|   0.8|       3|\n",
      "|  5| Manzana|   1.2|       6|\n",
      "|  1| Manzana|   1.2|       5|\n",
      "|  3| Naranja|   1.0|       4|\n",
      "|  4|    Pera|   1.5|       2|\n",
      "+---+--------+------+--------+\n",
      "\n"
     ]
    }
   ],
   "source": [
    "# remove duplicates (distinct)\n",
    "df_no_duplicates = df.distinct()\n",
    "df_no_duplicates.show()"
   ]
  },
  {
   "cell_type": "code",
   "execution_count": 11,
   "metadata": {},
   "outputs": [
    {
     "name": "stdout",
     "output_type": "stream",
     "text": [
      "+---+--------+------+--------+\n",
      "| id|producto|precio|cantidad|\n",
      "+---+--------+------+--------+\n",
      "|  4|    Pera|   1.5|       2|\n",
      "|  1| Manzana|   1.2|       5|\n",
      "|  5| Manzana|   1.2|       6|\n",
      "|  3| Naranja|   1.0|       4|\n",
      "|  2|  Banana|   0.8|       3|\n",
      "+---+--------+------+--------+\n",
      "\n"
     ]
    }
   ],
   "source": [
    "# order results (orderBy)\n",
    "df.orderBy('precio', ascending=False).show()"
   ]
  },
  {
   "cell_type": "code",
   "execution_count": 12,
   "metadata": {},
   "outputs": [
    {
     "name": "stdout",
     "output_type": "stream",
     "text": [
      "+---+--------+------+--------+-------+\n",
      "| id|producto|precio|cantidad|calidad|\n",
      "+---+--------+------+--------+-------+\n",
      "|  1| Manzana|   1.2|       5|  Media|\n",
      "|  2|  Banana|   0.8|       3|   Baja|\n",
      "|  3| Naranja|   1.0|       4|  Media|\n",
      "|  4|    Pera|   1.5|       2|   alta|\n",
      "|  5| Manzana|   1.2|       6|  Media|\n",
      "+---+--------+------+--------+-------+\n",
      "\n"
     ]
    }
   ],
   "source": [
    "# conditional data in column (when)\n",
    "df.withColumn('calidad', \n",
    "              F.when(F.expr('precio > 1.3'), 'alta')\n",
    "              .when(F.expr('precio >= 1'), 'Media')\n",
    "              .otherwise('Baja')\n",
    ").show()"
   ]
  },
  {
   "cell_type": "code",
   "execution_count": 13,
   "metadata": {},
   "outputs": [
    {
     "name": "stdout",
     "output_type": "stream",
     "text": [
      "+---+--------+------+--------+\n",
      "| id|producto|precio|cantidad|\n",
      "+---+--------+------+--------+\n",
      "|  1| Manzana|   1.2|       5|\n",
      "|  5| Manzana|   1.2|       6|\n",
      "+---+--------+------+--------+\n",
      "\n"
     ]
    }
   ],
   "source": [
    "# filter strings columns\n",
    "df.filter(F.col('producto').contains('anz')).show()"
   ]
  }
 ],
 "metadata": {
  "kernelspec": {
   "display_name": "Python 3",
   "language": "python",
   "name": "python3"
  },
  "language_info": {
   "codemirror_mode": {
    "name": "ipython",
    "version": 3
   },
   "file_extension": ".py",
   "mimetype": "text/x-python",
   "name": "python",
   "nbconvert_exporter": "python",
   "pygments_lexer": "ipython3",
   "version": "3.11.7"
  }
 },
 "nbformat": 4,
 "nbformat_minor": 2
}
