{
 "cells": [
  {
   "cell_type": "markdown",
   "metadata": {},
   "source": [
    "**PYSPARK SQL FUNCTIONS: strings**"
   ]
  },
  {
   "cell_type": "code",
   "execution_count": 24,
   "metadata": {},
   "outputs": [
    {
     "data": {
      "text/html": [
       "<div>\n",
       "<style scoped>\n",
       "    .dataframe tbody tr th:only-of-type {\n",
       "        vertical-align: middle;\n",
       "    }\n",
       "\n",
       "    .dataframe tbody tr th {\n",
       "        vertical-align: top;\n",
       "    }\n",
       "\n",
       "    .dataframe thead th {\n",
       "        text-align: right;\n",
       "    }\n",
       "</style>\n",
       "<table border=\"1\" class=\"dataframe\">\n",
       "  <thead>\n",
       "    <tr style=\"text-align: right;\">\n",
       "      <th></th>\n",
       "      <th>nombre</th>\n",
       "      <th>puesto</th>\n",
       "      <th>departamento</th>\n",
       "      <th>antigüedad</th>\n",
       "    </tr>\n",
       "  </thead>\n",
       "  <tbody>\n",
       "    <tr>\n",
       "      <th>0</th>\n",
       "      <td>Juan Pérez</td>\n",
       "      <td>Desarrollador</td>\n",
       "      <td>Técnico</td>\n",
       "      <td>1.2345</td>\n",
       "    </tr>\n",
       "    <tr>\n",
       "      <th>1</th>\n",
       "      <td>María López</td>\n",
       "      <td>Analista de datos</td>\n",
       "      <td>Técnico</td>\n",
       "      <td>3.5</td>\n",
       "    </tr>\n",
       "    <tr>\n",
       "      <th>2</th>\n",
       "      <td>Carlos Gómez</td>\n",
       "      <td>Gerente de proyecto</td>\n",
       "      <td>Gestión</td>\n",
       "      <td>1.8</td>\n",
       "    </tr>\n",
       "  </tbody>\n",
       "</table>\n",
       "</div>"
      ],
      "text/plain": [
       "         nombre               puesto departamento antigüedad\n",
       "0    Juan Pérez        Desarrollador      Técnico     1.2345\n",
       "1   María López    Analista de datos      Técnico        3.5\n",
       "2  Carlos Gómez  Gerente de proyecto      Gestión        1.8"
      ]
     },
     "execution_count": 24,
     "metadata": {},
     "output_type": "execute_result"
    }
   ],
   "source": [
    "import pandas as pd\n",
    "data = {\n",
    "  'nombre': ['Juan Pérez', 'María López', 'Carlos Gómez'],\n",
    "  'puesto': ['Desarrollador', 'Analista de datos', 'Gerente de proyecto'],\n",
    "  'departamento': ['Técnico', 'Técnico', 'Gestión'],\n",
    "  'antigüedad': ['1.2345', '3.5', '1.8'],\n",
    "}\n",
    "df = pd.DataFrame(data)\n",
    "df.head()"
   ]
  },
  {
   "cell_type": "code",
   "execution_count": 25,
   "metadata": {},
   "outputs": [],
   "source": [
    "df.to_csv('empleados.csv')"
   ]
  },
  {
   "cell_type": "code",
   "execution_count": 26,
   "metadata": {},
   "outputs": [
    {
     "name": "stdout",
     "output_type": "stream",
     "text": [
      "+---+------------+-------------------+------------+----------+\n",
      "|_c0|      nombre|             puesto|departamento|antigüedad|\n",
      "+---+------------+-------------------+------------+----------+\n",
      "|  0|  Juan Pérez|      Desarrollador|     Técnico|    1.2345|\n",
      "|  1| María López|  Analista de datos|     Técnico|       3.5|\n",
      "|  2|Carlos Gómez|Gerente de proyecto|     Gestión|       1.8|\n",
      "+---+------------+-------------------+------------+----------+\n",
      "\n"
     ]
    },
    {
     "name": "stderr",
     "output_type": "stream",
     "text": [
      "24/05/09 09:46:17 WARN CSVHeaderChecker: CSV header does not conform to the schema.\n",
      " Header: , nombre, puesto, departamento, antigüedad\n",
      " Schema: _c0, nombre, puesto, departamento, antigüedad\n",
      "Expected: _c0 but found: \n",
      "CSV file: file:///Users/asaucedov/workspaces/python3/librerias-python/pyspark/empleados.csv\n"
     ]
    }
   ],
   "source": [
    "from pyspark.sql import SparkSession\n",
    "spark = SparkSession.builder.appName('appName').getOrCreate()\n",
    "empleados = spark.read.csv('empleados.csv', header=True, inferSchema=False)\n",
    "empleados.show()"
   ]
  },
  {
   "cell_type": "code",
   "execution_count": 27,
   "metadata": {},
   "outputs": [
    {
     "data": {
      "text/plain": [
       "[('_c0', 'string'),\n",
       " ('nombre', 'string'),\n",
       " ('puesto', 'string'),\n",
       " ('departamento', 'string'),\n",
       " ('antigüedad', 'string')]"
      ]
     },
     "execution_count": 27,
     "metadata": {},
     "output_type": "execute_result"
    }
   ],
   "source": [
    "empleados.dtypes"
   ]
  },
  {
   "cell_type": "code",
   "execution_count": 28,
   "metadata": {},
   "outputs": [
    {
     "name": "stdout",
     "output_type": "stream",
     "text": [
      "+---+------------+-------------------+------------+----------+--------------------+---------------+--------------+-----------+\n",
      "|_c0|      nombre|             puesto|departamento|antigüedad|         dpto_puesto|        nombres|index_of_space|nombre_ppal|\n",
      "+---+------------+-------------------+------------+----------+--------------------+---------------+--------------+-----------+\n",
      "|  0|  Juan Pérez|      Desarrollador|          IT|    1.2345|Desarrollador-Téc...|  [Juan, Pérez]|             5|      Juan |\n",
      "|  1| María López|  Analista de datos|          IT|       3.5|Analista de datos...| [María, López]|             6|     María |\n",
      "|  2|Carlos Gómez|Gerente de proyecto|     Gestión|       1.8|Gerente de proyec...|[Carlos, Gómez]|             7|    Carlos |\n",
      "+---+------------+-------------------+------------+----------+--------------------+---------------+--------------+-----------+\n",
      "\n"
     ]
    },
    {
     "name": "stderr",
     "output_type": "stream",
     "text": [
      "24/05/09 09:46:17 WARN CSVHeaderChecker: CSV header does not conform to the schema.\n",
      " Header: , nombre, puesto, departamento, antigüedad\n",
      " Schema: _c0, nombre, puesto, departamento, antigüedad\n",
      "Expected: _c0 but found: \n",
      "CSV file: file:///Users/asaucedov/workspaces/python3/librerias-python/pyspark/empleados.csv\n"
     ]
    }
   ],
   "source": [
    "# concat, split, instr, left, replace\n",
    "import pyspark.sql.functions as F\n",
    "empleados = empleados.withColumn('dpto_puesto', F.concat_ws('-', 'puesto', 'departamento'))\n",
    "# split string into arrays\n",
    "empleados = empleados.withColumn('nombres', F.split('nombre', ' '))\n",
    "# index of substr\n",
    "empleados = empleados.withColumn('index_of_space', F.instr(F.col('nombre'), ' '))\n",
    "# extract substr\n",
    "empleados = empleados.withColumn('nombre_ppal', F.left(F.col('nombre'), F.col('index_of_space')))\n",
    "# replace text in column\n",
    "empleados = empleados.withColumn('departamento', F.replace(F.col('departamento'), F.lit('Técnico'), F.lit('IT')))\n",
    "empleados.show()"
   ]
  },
  {
   "cell_type": "code",
   "execution_count": 29,
   "metadata": {},
   "outputs": [
    {
     "name": "stdout",
     "output_type": "stream",
     "text": [
      "+---+------------+-------------------+------------+----------+--------------------+---------------+--------------+-----------+---------------------+\n",
      "|_c0|      nombre|             puesto|departamento|antigüedad|         dpto_puesto|        nombres|index_of_space|nombre_ppal|solo_letras_y_numeros|\n",
      "+---+------------+-------------------+------------+----------+--------------------+---------------+--------------+-----------+---------------------+\n",
      "|  0|  Juan Pérez|      Desarrollador|          IT|    1.2345|Desarrollador-Téc...|  [Juan, Pérez]|             5|      Juan |           _uan___rez|\n",
      "|  1| María López|  Analista de datos|          IT|       3.5|Analista de datos...| [María, López]|             6|     María |          _ar_a___pez|\n",
      "|  2|Carlos Gómez|Gerente de proyecto|     Gestión|       1.8|Gerente de proyec...|[Carlos, Gómez]|             7|    Carlos |         _arlos___mez|\n",
      "+---+------------+-------------------+------------+----------+--------------------+---------------+--------------+-----------+---------------------+\n",
      "\n"
     ]
    },
    {
     "name": "stderr",
     "output_type": "stream",
     "text": [
      "24/05/09 09:46:17 WARN CSVHeaderChecker: CSV header does not conform to the schema.\n",
      " Header: , nombre, puesto, departamento, antigüedad\n",
      " Schema: _c0, nombre, puesto, departamento, antigüedad\n",
      "Expected: _c0 but found: \n",
      "CSV file: file:///Users/asaucedov/workspaces/python3/librerias-python/pyspark/empleados.csv\n"
     ]
    }
   ],
   "source": [
    "# regexp_replace\n",
    "empleados = empleados.withColumn('solo_letras_y_numeros', F.regexp_replace(F.col('nombre'), r'[^a-z]', '_'))\n",
    "empleados.show()"
   ]
  },
  {
   "cell_type": "code",
   "execution_count": 30,
   "metadata": {},
   "outputs": [
    {
     "name": "stderr",
     "output_type": "stream",
     "text": [
      "24/05/09 09:46:17 WARN CSVHeaderChecker: CSV header does not conform to the schema.\n",
      " Header: , nombre, puesto, departamento, antigüedad\n",
      " Schema: _c0, nombre, puesto, departamento, antigüedad\n",
      "Expected: _c0 but found: \n",
      "CSV file: file:///Users/asaucedov/workspaces/python3/librerias-python/pyspark/empleados.csv\n"
     ]
    },
    {
     "name": "stdout",
     "output_type": "stream",
     "text": [
      "+---+------------+-------------------+------------+----------+--------------------+---------------+--------------+-----------+---------------------+--------+\n",
      "|_c0|      nombre|             puesto|departamento|antigüedad|         dpto_puesto|        nombres|index_of_space|nombre_ppal|solo_letras_y_numeros|num_años|\n",
      "+---+------------+-------------------+------------+----------+--------------------+---------------+--------------+-----------+---------------------+--------+\n",
      "|  0|  Juan Pérez|      Desarrollador|          IT|    1.2345|Desarrollador-Téc...|  [Juan, Pérez]|             5|      Juan |           _uan___rez|  1.2345|\n",
      "|  1| María López|  Analista de datos|          IT|       3.5|Analista de datos...| [María, López]|             6|     María |          _ar_a___pez|  3.5000|\n",
      "|  2|Carlos Gómez|Gerente de proyecto|     Gestión|       1.8|Gerente de proyec...|[Carlos, Gómez]|             7|    Carlos |         _arlos___mez|  1.8000|\n",
      "+---+------------+-------------------+------------+----------+--------------------+---------------+--------------+-----------+---------------------+--------+\n",
      "\n"
     ]
    }
   ],
   "source": [
    "# convert text to number\n",
    "empleados = empleados.withColumn('num_años', F.to_number(F.col('antigüedad'), F.lit('9999.9999')))\n",
    "empleados.show()"
   ]
  },
  {
   "cell_type": "code",
   "execution_count": 45,
   "metadata": {},
   "outputs": [
    {
     "name": "stdout",
     "output_type": "stream",
     "text": [
      "+-----------------+------------------+--------------+------------------+--------------------+------------------+--------------+\n",
      "|current_catalog()|current_database()|current_date()|current_database()| current_timestamp()|current_timezone()|current_user()|\n",
      "+-----------------+------------------+--------------+------------------+--------------------+------------------+--------------+\n",
      "|    spark_catalog|           default|    2024-05-09|           default|2024-05-09 09:55:...|     Europe/Madrid|     asaucedov|\n",
      "|    spark_catalog|           default|    2024-05-09|           default|2024-05-09 09:55:...|     Europe/Madrid|     asaucedov|\n",
      "|    spark_catalog|           default|    2024-05-09|           default|2024-05-09 09:55:...|     Europe/Madrid|     asaucedov|\n",
      "+-----------------+------------------+--------------+------------------+--------------------+------------------+--------------+\n",
      "\n"
     ]
    }
   ],
   "source": [
    "# Show sql information\n",
    "empleados.select(\n",
    "  (F.current_catalog()),\n",
    "  (F.current_database()),\n",
    "  (F.current_date()),\n",
    "  (F.current_schema()),\n",
    "  (F.current_timestamp()),\n",
    "  (F.current_timezone()),\n",
    "  (F.current_user()),\n",
    ").show()\n"
   ]
  }
 ],
 "metadata": {
  "kernelspec": {
   "display_name": "base",
   "language": "python",
   "name": "python3"
  },
  "language_info": {
   "codemirror_mode": {
    "name": "ipython",
    "version": 3
   },
   "file_extension": ".py",
   "mimetype": "text/x-python",
   "name": "python",
   "nbconvert_exporter": "python",
   "pygments_lexer": "ipython3",
   "version": "3.11.5"
  }
 },
 "nbformat": 4,
 "nbformat_minor": 2
}
