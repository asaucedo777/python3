{
 "cells": [
  {
   "cell_type": "markdown",
   "metadata": {},
   "source": [
    "**ESTUDIO DE CORRELACIÓN DE VARIABLES IRIS**\n",
    "1. Librerías a utilizar\n",
    "2. Regresión lineal\n",
    "3. Conclusiones y próximos pasos"
   ]
  },
  {
   "cell_type": "markdown",
   "metadata": {},
   "source": [
    "#### 1. Librerías a utilizar\n",
    "* pandas\n",
    "* numpy\n",
    "* matplotlib\n",
    "* scipy"
   ]
  },
  {
   "cell_type": "code",
   "execution_count": 1,
   "metadata": {},
   "outputs": [
    {
     "data": {
      "text/html": [
       "<div>\n",
       "<style scoped>\n",
       "    .dataframe tbody tr th:only-of-type {\n",
       "        vertical-align: middle;\n",
       "    }\n",
       "\n",
       "    .dataframe tbody tr th {\n",
       "        vertical-align: top;\n",
       "    }\n",
       "\n",
       "    .dataframe thead th {\n",
       "        text-align: right;\n",
       "    }\n",
       "</style>\n",
       "<table border=\"1\" class=\"dataframe\">\n",
       "  <thead>\n",
       "    <tr style=\"text-align: right;\">\n",
       "      <th></th>\n",
       "      <th>Unnamed: 0</th>\n",
       "      <th>longitud_sepalo</th>\n",
       "      <th>ancho_sepalo</th>\n",
       "      <th>longitud_petalo</th>\n",
       "      <th>ancho_petalo</th>\n",
       "      <th>clase</th>\n",
       "    </tr>\n",
       "  </thead>\n",
       "  <tbody>\n",
       "    <tr>\n",
       "      <th>0</th>\n",
       "      <td>0</td>\n",
       "      <td>5.1</td>\n",
       "      <td>3.5</td>\n",
       "      <td>1.4</td>\n",
       "      <td>1.2</td>\n",
       "      <td>setosa</td>\n",
       "    </tr>\n",
       "    <tr>\n",
       "      <th>1</th>\n",
       "      <td>1</td>\n",
       "      <td>4.9</td>\n",
       "      <td>3.0</td>\n",
       "      <td>1.4</td>\n",
       "      <td>0.2</td>\n",
       "      <td>setosa</td>\n",
       "    </tr>\n",
       "    <tr>\n",
       "      <th>2</th>\n",
       "      <td>2</td>\n",
       "      <td>4.7</td>\n",
       "      <td>3.2</td>\n",
       "      <td>1.3</td>\n",
       "      <td>0.2</td>\n",
       "      <td>setosa</td>\n",
       "    </tr>\n",
       "    <tr>\n",
       "      <th>3</th>\n",
       "      <td>3</td>\n",
       "      <td>4.6</td>\n",
       "      <td>3.1</td>\n",
       "      <td>1.5</td>\n",
       "      <td>0.2</td>\n",
       "      <td>setosa</td>\n",
       "    </tr>\n",
       "    <tr>\n",
       "      <th>4</th>\n",
       "      <td>4</td>\n",
       "      <td>5.0</td>\n",
       "      <td>3.6</td>\n",
       "      <td>1.4</td>\n",
       "      <td>0.2</td>\n",
       "      <td>setosa</td>\n",
       "    </tr>\n",
       "    <tr>\n",
       "      <th>...</th>\n",
       "      <td>...</td>\n",
       "      <td>...</td>\n",
       "      <td>...</td>\n",
       "      <td>...</td>\n",
       "      <td>...</td>\n",
       "      <td>...</td>\n",
       "    </tr>\n",
       "    <tr>\n",
       "      <th>145</th>\n",
       "      <td>145</td>\n",
       "      <td>6.7</td>\n",
       "      <td>3.0</td>\n",
       "      <td>5.2</td>\n",
       "      <td>2.3</td>\n",
       "      <td>virginica</td>\n",
       "    </tr>\n",
       "    <tr>\n",
       "      <th>146</th>\n",
       "      <td>146</td>\n",
       "      <td>6.3</td>\n",
       "      <td>2.5</td>\n",
       "      <td>5.0</td>\n",
       "      <td>1.9</td>\n",
       "      <td>virginica</td>\n",
       "    </tr>\n",
       "    <tr>\n",
       "      <th>147</th>\n",
       "      <td>147</td>\n",
       "      <td>6.5</td>\n",
       "      <td>3.0</td>\n",
       "      <td>5.2</td>\n",
       "      <td>2.0</td>\n",
       "      <td>virginica</td>\n",
       "    </tr>\n",
       "    <tr>\n",
       "      <th>148</th>\n",
       "      <td>148</td>\n",
       "      <td>6.2</td>\n",
       "      <td>3.4</td>\n",
       "      <td>5.4</td>\n",
       "      <td>2.3</td>\n",
       "      <td>virginica</td>\n",
       "    </tr>\n",
       "    <tr>\n",
       "      <th>149</th>\n",
       "      <td>149</td>\n",
       "      <td>5.9</td>\n",
       "      <td>3.0</td>\n",
       "      <td>5.1</td>\n",
       "      <td>1.8</td>\n",
       "      <td>virginica</td>\n",
       "    </tr>\n",
       "  </tbody>\n",
       "</table>\n",
       "<p>150 rows × 6 columns</p>\n",
       "</div>"
      ],
      "text/plain": [
       "     Unnamed: 0  longitud_sepalo  ancho_sepalo  longitud_petalo  ancho_petalo  \\\n",
       "0             0              5.1           3.5              1.4           1.2   \n",
       "1             1              4.9           3.0              1.4           0.2   \n",
       "2             2              4.7           3.2              1.3           0.2   \n",
       "3             3              4.6           3.1              1.5           0.2   \n",
       "4             4              5.0           3.6              1.4           0.2   \n",
       "..          ...              ...           ...              ...           ...   \n",
       "145         145              6.7           3.0              5.2           2.3   \n",
       "146         146              6.3           2.5              5.0           1.9   \n",
       "147         147              6.5           3.0              5.2           2.0   \n",
       "148         148              6.2           3.4              5.4           2.3   \n",
       "149         149              5.9           3.0              5.1           1.8   \n",
       "\n",
       "         clase  \n",
       "0       setosa  \n",
       "1       setosa  \n",
       "2       setosa  \n",
       "3       setosa  \n",
       "4       setosa  \n",
       "..         ...  \n",
       "145  virginica  \n",
       "146  virginica  \n",
       "147  virginica  \n",
       "148  virginica  \n",
       "149  virginica  \n",
       "\n",
       "[150 rows x 6 columns]"
      ]
     },
     "execution_count": 1,
     "metadata": {},
     "output_type": "execute_result"
    }
   ],
   "source": [
    "# Utilizamos librería pandas por que el tamaño de los datos es pequeño (150 items)\n",
    "import pandas as pd\n",
    "import numpy as np\n",
    "import matplotlib.pyplot as plt\n",
    "from scipy import stats\n",
    "# Los datos no contienen cabeceras\n",
    "df = pd.read_csv(\"iris_clean.csv\")\n",
    "df"
   ]
  },
  {
   "cell_type": "markdown",
   "metadata": {},
   "source": [
    "#### 2. Regresión lineal"
   ]
  },
  {
   "cell_type": "markdown",
   "metadata": {},
   "source": [
    "##### 2.1 Ancho del sépalo en función de la longitud del sépalo para la especie SETOSA"
   ]
  },
  {
   "cell_type": "code",
   "execution_count": 2,
   "metadata": {},
   "outputs": [
    {
     "name": "stdout",
     "output_type": "stream",
     "text": [
      "5.1, 4.9, 4.7, 4.6, 5.0, 5.4, 4.6, 5.0, 4.4, 4.9, 5.4, 4.8, 4.8, 4.3, 5.8, 5.7, 5.4, 5.1, 5.7, 5.1, 5.4, 5.1, 4.6, 5.1, 4.8, 5.0, 5.0, 5.2, 5.2, 4.7, 4.8, 5.4, 5.2, 5.5, 4.9, 5.0, 5.5, 4.9, 4.4, 5.1, 5.0, 4.5, 4.4, 5.0, 5.1, 4.8, 5.1, 4.6, 5.3, 5.0\n",
      "3.5, 3.0, 3.2, 3.1, 3.6, 3.9, 3.4, 3.4, 2.9, 3.1, 3.7, 3.4, 3.0, 3.0, 4.0, 4.4, 3.9, 3.5, 3.8, 3.8, 3.4, 3.7, 3.6, 3.3, 3.4, 3.0, 3.4, 3.5, 3.4, 3.2, 3.1, 3.4, 4.1, 4.2, 3.1, 3.2, 3.5, 3.1, 3.0, 3.4, 3.5, 2.3, 3.2, 3.5, 3.8, 3.0, 3.8, 3.2, 3.7, 3.3\n"
     ]
    }
   ],
   "source": [
    "# Vamos a estudiar el ancho del sépalo en función de la longitud del sépalo para la especie Setosa\n",
    "\"\"\"\n",
    "  f(x) = x * c + k  ??\n",
    "\"\"\"\n",
    "x = df[df[\"clase\"] == 'setosa']['longitud_sepalo'].values\n",
    "y = df[df[\"clase\"] == 'setosa']['ancho_sepalo'].values\n",
    "print(*x, sep=\", \")\n",
    "print(*y, sep=\", \")"
   ]
  },
  {
   "cell_type": "code",
   "execution_count": 3,
   "metadata": {},
   "outputs": [
    {
     "name": "stdout",
     "output_type": "stream",
     "text": [
      "Pendiente: 80.72% \n",
      "Intercept: -0.62\n",
      "Coef. correlación: 74.68%\n",
      "p-value: 0.00\n",
      "Error estándar: 0.10\n"
     ]
    }
   ],
   "source": [
    "# Obtenemos datos de regresión de x e y con stats.linregress\n",
    "slope, intercept, r, p, std_err = stats.linregress(x, y)\n",
    "# Mostramos parámetros de la regresión\n",
    "print(f\"Pendiente: {slope*100:.2f}% \\nIntercept: {intercept:.2f}\\nCoef. correlación: {r*100:.2f}%\\np-value: {p:.2f}\\nError estándar: {std_err:.2f}\")\n",
    "# definimos la función y'\n",
    "f_x = lambda x: slope * x + intercept\n",
    "# Obtenemos datos del modelo para toda la serie x (en caso de que fueran muchos podríamos separar entre datos de test y modelo)\n",
    "model = list(map(f_x, x))\n"
   ]
  },
  {
   "cell_type": "markdown",
   "metadata": {},
   "source": [
    "##### Explicación\n",
    "Podríamos decir que el \"Ancho del sépalo\" para la especie SETOSA es igual a 0.8072 veces la \"Longitud del sépalo\" menos 0.62 mm, con un coeficiente de correlación del 75 % aproximadamente (p-value es menor que 0.05 lo cual nos indica que es Estadísiticamente significante)\n",
    "\n",
    "Esta función nos permitiría predecir el valor del \"Ancho del sépalo\" de una especie SETOSA si sabemos su \"Longitud de sépalo\""
   ]
  },
  {
   "cell_type": "code",
   "execution_count": 4,
   "metadata": {},
   "outputs": [
    {
     "data": {
      "image/png": "[encoded data removed]",
      "text/plain": [
       "<Figure size 640x480 with 1 Axes>"
      ]
     },
     "metadata": {},
     "output_type": "display_data"
    }
   ],
   "source": [
    "# Representamos gráficamente los puntos (x, y)\n",
    "plt.scatter(x, y)\n",
    "# y el modelo obtenido de la función f(x) y'\n",
    "plt.plot(x, model)\n",
    "plt.xlabel('Longitud del sépalo (mm)')\n",
    "plt.ylabel('Ancho del sépalo (mm)')\n",
    "plt.show()"
   ]
  },
  {
   "cell_type": "code",
   "execution_count": 37,
   "metadata": {},
   "outputs": [
    {
     "data": {
      "text/html": [
       "<div>\n",
       "<style scoped>\n",
       "    .dataframe tbody tr th:only-of-type {\n",
       "        vertical-align: middle;\n",
       "    }\n",
       "\n",
       "    .dataframe tbody tr th {\n",
       "        vertical-align: top;\n",
       "    }\n",
       "\n",
       "    .dataframe thead th {\n",
       "        text-align: right;\n",
       "    }\n",
       "</style>\n",
       "<table border=\"1\" class=\"dataframe\">\n",
       "  <thead>\n",
       "    <tr style=\"text-align: right;\">\n",
       "      <th></th>\n",
       "      <th>longitud_sepalo</th>\n",
       "      <th>ancho_sepalo</th>\n",
       "      <th>longitud_petalo</th>\n",
       "      <th>ancho_petalo</th>\n",
       "    </tr>\n",
       "  </thead>\n",
       "  <tbody>\n",
       "    <tr>\n",
       "      <th>longitud_sepalo</th>\n",
       "      <td>1.000000</td>\n",
       "      <td>-0.109369</td>\n",
       "      <td>0.871754</td>\n",
       "      <td>0.814786</td>\n",
       "    </tr>\n",
       "    <tr>\n",
       "      <th>ancho_sepalo</th>\n",
       "      <td>-0.109369</td>\n",
       "      <td>1.000000</td>\n",
       "      <td>-0.420516</td>\n",
       "      <td>-0.349526</td>\n",
       "    </tr>\n",
       "    <tr>\n",
       "      <th>longitud_petalo</th>\n",
       "      <td>0.871754</td>\n",
       "      <td>-0.420516</td>\n",
       "      <td>1.000000</td>\n",
       "      <td>0.956551</td>\n",
       "    </tr>\n",
       "    <tr>\n",
       "      <th>ancho_petalo</th>\n",
       "      <td>0.814786</td>\n",
       "      <td>-0.349526</td>\n",
       "      <td>0.956551</td>\n",
       "      <td>1.000000</td>\n",
       "    </tr>\n",
       "  </tbody>\n",
       "</table>\n",
       "</div>"
      ],
      "text/plain": [
       "                 longitud_sepalo  ancho_sepalo  longitud_petalo  ancho_petalo\n",
       "longitud_sepalo         1.000000     -0.109369         0.871754      0.814786\n",
       "ancho_sepalo           -0.109369      1.000000        -0.420516     -0.349526\n",
       "longitud_petalo         0.871754     -0.420516         1.000000      0.956551\n",
       "ancho_petalo            0.814786     -0.349526         0.956551      1.000000"
      ]
     },
     "execution_count": 37,
     "metadata": {},
     "output_type": "execute_result"
    }
   ],
   "source": [
    "# Estudio de correlación global\n",
    "df_correlation = df.filter(items=['longitud_sepalo','ancho_sepalo','longitud_petalo','ancho_petalo'])\n",
    "correlation = df_correlation.corr()\n",
    "correlation"
   ]
  },
  {
   "cell_type": "code",
   "execution_count": 60,
   "metadata": {},
   "outputs": [
    {
     "name": "stdout",
     "output_type": "stream",
     "text": [
      "Index(['longitud_sepalo', 'ancho_sepalo', 'longitud_petalo', 'ancho_petalo'], dtype='object')\n"
     ]
    },
    {
     "data": {
      "image/png": "[encoded data removed]",
      "text/plain": [
       "<Figure size 400x400 with 2 Axes>"
      ]
     },
     "metadata": {},
     "output_type": "display_data"
    }
   ],
   "source": [
    "# Representación gráfica\n",
    "fig, axes = plt.subplots(figsize=(4,4))\n",
    "im = axes.imshow(correlation, vmin=-1, vmax=1, cmap=\"Blues\")\n",
    "cbar = axes.figure.colorbar(im, ax=axes)\n",
    "axes.set_xticks(np.arange(4))\n",
    "axes.set_yticks(np.arange(4))\n",
    "axes.set_xticklabels(correlation.columns)\n",
    "axes.set_yticklabels(correlation.columns)\n",
    "plt.setp(axes.get_xticklabels(), rotation=90, ha=\"right\", rotation_mode=\"anchor\")\n",
    "for i in range(correlation.index.__len__()):\n",
    "  for j in range(len(correlation.columns)):\n",
    "    text = axes.text(j, i, round(correlation.iloc[i,j],2), ha=\"center\", va=\"center\", color=\"w\")\n",
    "fig.tight_layout()\n",
    "print(correlation.columns)\n",
    "plt.show()"
   ]
  }
 ],
 "metadata": {
  "kernelspec": {
   "display_name": "base",
   "language": "python",
   "name": "python3"
  },
  "language_info": {
   "codemirror_mode": {
    "name": "ipython",
    "version": 3
   },
   "file_extension": ".py",
   "mimetype": "text/x-python",
   "name": "python",
   "nbconvert_exporter": "python",
   "pygments_lexer": "ipython3",
   "version": "3.11.5"
  }
 },
 "nbformat": 4,
 "nbformat_minor": 2
}
