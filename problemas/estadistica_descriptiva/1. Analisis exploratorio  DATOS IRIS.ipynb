{
 "cells": [
  {
   "cell_type": "markdown",
   "metadata": {},
   "source": [
    "**ANALISIS EXPLORATORIO DE LOS DATOS IRIS**\n",
    "1. Introducción\n",
    "2. Definir objetivo\n",
    "3. Indicadores\n",
    "4. Importación de los datos\n",
    "5. Descripción estadística\n",
    "6. Conclusiones y propuestas de limpieza\n",
    "5. Analizar variables cuantitativas\n",
    "- Correlación con medidas cualitativas\n",
    "6. Conclusiones"
   ]
  },
  {
   "cell_type": "markdown",
   "metadata": {},
   "source": [
    "# 1. Introducción\n",
    "La variedad de flores existentes siempre ha sido objeto de estudio bla, bla.\n",
    "En este estudio nos centramos más en las dimensiones físicas de la flor de la especie IRIS, concretamente en las dimensiones de sus pétalos y sépalos, bla, bla"
   ]
  },
  {
   "cell_type": "markdown",
   "metadata": {},
   "source": [
    "# 2. Objetivo\n",
    "El objetivo del estudio es describir las dimensiones de los pétalos y sépalos y determinar las medias más comunes, la variabilidad en las medidas y la correlación entre dichas medidas y su clasificación"
   ]
  },
  {
   "cell_type": "markdown",
   "metadata": {},
   "source": [
    "# 3. Indicadores\n",
    "Las medidas recogidas corresponden a una muestra de 150 flores obtenidas de forma aleatoria del \"Jardín Botánico Nacional\" de bla, ble\n",
    "Las medidas obtenidas son:\n",
    "* Longitud máxima del sépalo en centímetros\n",
    "* Ancho máximo del sépalo en centrímetros\n",
    "* Longitud máxima del pépalo en centímetros\n",
    "* Ancho máximo del pépalo en centrímetros\n",
    "* Clase de flor entre los valores: setosa, versicolor y virgínica"
   ]
  },
  {
   "cell_type": "markdown",
   "metadata": {},
   "source": [
    "# 4. Análisis exploratorio\n",
    "A continuación se realizará la importación de los datos previamente almacenados en un fichero de texto que contiene valores de cada columna separados por comas (formato CSV)\n",
    "Dado que el conjunto de datos es de tamaño pequeño (150 items), vamos a utilizar la librería \"pandas\" par el tratamiento de los datos"
   ]
  },
  {
   "cell_type": "code",
   "execution_count": 1,
   "metadata": {},
   "outputs": [
    {
     "data": {
      "text/html": [
       "<div>\n",
       "<style scoped>\n",
       "    .dataframe tbody tr th:only-of-type {\n",
       "        vertical-align: middle;\n",
       "    }\n",
       "\n",
       "    .dataframe tbody tr th {\n",
       "        vertical-align: top;\n",
       "    }\n",
       "\n",
       "    .dataframe thead th {\n",
       "        text-align: right;\n",
       "    }\n",
       "</style>\n",
       "<table border=\"1\" class=\"dataframe\">\n",
       "  <thead>\n",
       "    <tr style=\"text-align: right;\">\n",
       "      <th></th>\n",
       "      <th>longitud_sepalo</th>\n",
       "      <th>ancho_sepalo</th>\n",
       "      <th>longitud_petalo</th>\n",
       "      <th>ancho_petalo</th>\n",
       "      <th>clase</th>\n",
       "    </tr>\n",
       "  </thead>\n",
       "  <tbody>\n",
       "    <tr>\n",
       "      <th>0</th>\n",
       "      <td>5.1</td>\n",
       "      <td>3.5</td>\n",
       "      <td>1.4</td>\n",
       "      <td>NaN</td>\n",
       "      <td>setosa</td>\n",
       "    </tr>\n",
       "    <tr>\n",
       "      <th>1</th>\n",
       "      <td>4.9</td>\n",
       "      <td>3.0</td>\n",
       "      <td>1.4</td>\n",
       "      <td>0.2</td>\n",
       "      <td>setosa</td>\n",
       "    </tr>\n",
       "    <tr>\n",
       "      <th>2</th>\n",
       "      <td>4.7</td>\n",
       "      <td>3.2</td>\n",
       "      <td>1.3</td>\n",
       "      <td>0.2</td>\n",
       "      <td>setosa</td>\n",
       "    </tr>\n",
       "    <tr>\n",
       "      <th>3</th>\n",
       "      <td>4.6</td>\n",
       "      <td>3.1</td>\n",
       "      <td>1.5</td>\n",
       "      <td>0.2</td>\n",
       "      <td>setosa</td>\n",
       "    </tr>\n",
       "    <tr>\n",
       "      <th>4</th>\n",
       "      <td>5.0</td>\n",
       "      <td>3.6</td>\n",
       "      <td>1.4</td>\n",
       "      <td>0.2</td>\n",
       "      <td>setosa</td>\n",
       "    </tr>\n",
       "  </tbody>\n",
       "</table>\n",
       "</div>"
      ],
      "text/plain": [
       "   longitud_sepalo  ancho_sepalo  longitud_petalo  ancho_petalo   clase\n",
       "0              5.1           3.5              1.4           NaN  setosa\n",
       "1              4.9           3.0              1.4           0.2  setosa\n",
       "2              4.7           3.2              1.3           0.2  setosa\n",
       "3              4.6           3.1              1.5           0.2  setosa\n",
       "4              5.0           3.6              1.4           0.2  setosa"
      ]
     },
     "execution_count": 1,
     "metadata": {},
     "output_type": "execute_result"
    }
   ],
   "source": [
    "# Utilizamos librería pandas por que el tamaño de los datos es pequeño (150 items)\n",
    "import pandas as pd\n",
    "# Los datos no contienen cabeceras\n",
    "df = pd.read_csv(\"iris.csv\", header=None)\n",
    "# Definimos las columnas que contiene el df\n",
    "df.columns=['longitud_sepalo','ancho_sepalo','longitud_petalo','ancho_petalo','clase']\n",
    "# Mostramos las primeras filas\n",
    "df.head()"
   ]
  },
  {
   "cell_type": "markdown",
   "metadata": {},
   "source": [
    "# Descripción estadística"
   ]
  },
  {
   "cell_type": "code",
   "execution_count": 2,
   "metadata": {},
   "outputs": [
    {
     "name": "stdout",
     "output_type": "stream",
     "text": [
      "       longitud_sepalo  ancho_sepalo  longitud_petalo  ancho_petalo\n",
      "count       150.000000    150.000000       150.000000    149.000000\n",
      "mean          5.843333      3.054000         3.758667      1.205369\n",
      "std           0.828066      0.433594         1.764420      0.761292\n",
      "min           4.300000      2.000000         1.000000      0.100000\n",
      "25%           5.100000      2.800000         1.600000      0.300000\n",
      "50%           5.800000      3.000000         4.350000      1.300000\n",
      "75%           6.400000      3.300000         5.100000      1.800000\n",
      "max           7.900000      4.400000         6.900000      2.500000\n"
     ]
    }
   ],
   "source": [
    "# Analizar validez de los datos\n",
    "print(df.describe())"
   ]
  },
  {
   "cell_type": "code",
   "execution_count": 3,
   "metadata": {},
   "outputs": [
    {
     "name": "stdout",
     "output_type": "stream",
     "text": [
      "\n",
      "¿Cómo de alejado está el valor MÍNIMO de la media?\n",
      "longitud_sepalo_minimo: 1.86\n",
      "ancho_sepalo_minimo: 2.43\n",
      "longitud_petalo_minimo: 1.56\n",
      "ancho_petalo_minimo: 1.45\n"
     ]
    }
   ],
   "source": [
    "# Analizar valores mínimos\n",
    "print(\"\\n¿Cómo de alejado está el valor MÍNIMO de la media?\")\n",
    "longitud_sepalo_disperso_minimo = (df.describe()['longitud_sepalo'][\"mean\"] - df.describe()['longitud_sepalo'][\"min\"]) / df.describe()['longitud_sepalo'][\"std\"]\n",
    "print(f\"longitud_sepalo_minimo: {longitud_sepalo_disperso_minimo:.2f}\")\n",
    "ancho_sepalo_disperso_minimo = (df.describe()['ancho_sepalo'][\"mean\"] - df.describe()['ancho_sepalo'][\"min\"]) / df.describe()['ancho_sepalo'][\"std\"]\n",
    "print(f\"ancho_sepalo_minimo: {ancho_sepalo_disperso_minimo:.2f}\")\n",
    "longitud_petalo_disperso_minimo = (df.describe()['longitud_petalo'][\"mean\"] - df.describe()['longitud_petalo'][\"min\"]) / df.describe()['longitud_petalo'][\"std\"]\n",
    "print(f\"longitud_petalo_minimo: {longitud_petalo_disperso_minimo:.2f}\")\n",
    "ancho_petalo_disperso_minimo = (df.describe()['ancho_petalo'][\"mean\"] - df.describe()['ancho_petalo'][\"min\"]) / df.describe()['ancho_petalo'][\"std\"]\n",
    "print(f\"ancho_petalo_minimo: {ancho_petalo_disperso_minimo:.2f}\")"
   ]
  },
  {
   "cell_type": "code",
   "execution_count": 4,
   "metadata": {},
   "outputs": [
    {
     "name": "stdout",
     "output_type": "stream",
     "text": [
      "\n",
      "¿Cómo de alejado está el valor MÁXIMO de la media?\n",
      "longitud_sepalo_maximo: 2.48\n",
      "ancho_sepalo_maximo: 3.10\n",
      "longitud_petalo_maximo: 1.78\n",
      "ancho_petalo_maximo: 1.70\n"
     ]
    }
   ],
   "source": [
    "# Analizar valores máximos\n",
    "print(\"\\n¿Cómo de alejado está el valor MÁXIMO de la media?\")\n",
    "longitud_sepalo_disperso_maximo = -(df.describe()['longitud_sepalo'][\"mean\"] - df.describe()['longitud_sepalo'][\"max\"]) / df.describe()['longitud_sepalo'][\"std\"]\n",
    "print(f\"longitud_sepalo_maximo: {longitud_sepalo_disperso_maximo:.2f}\")\n",
    "ancho_sepalo_disperso_maximo = -(df.describe()['ancho_sepalo'][\"mean\"] - df.describe()['ancho_sepalo'][\"max\"]) / df.describe()['ancho_sepalo'][\"std\"]\n",
    "print(f\"ancho_sepalo_maximo: {ancho_sepalo_disperso_maximo:.2f}\")\n",
    "longitud_petalo_disperso_maximo = -(df.describe()['longitud_petalo'][\"mean\"] - df.describe()['longitud_petalo'][\"max\"]) / df.describe()['longitud_petalo'][\"std\"]\n",
    "print(f\"longitud_petalo_maximo: {longitud_petalo_disperso_maximo:.2f}\")\n",
    "ancho_petalo_disperso_maximo = -(df.describe()['ancho_petalo'][\"mean\"] - df.describe()['ancho_petalo'][\"max\"]) / df.describe()['ancho_petalo'][\"std\"]\n",
    "print(f\"ancho_petalo_maximo: {ancho_petalo_disperso_maximo:.2f}\")"
   ]
  },
  {
   "cell_type": "markdown",
   "metadata": {},
   "source": [
    "# ¿Cuáles son los valores más repetidos en cada variable?"
   ]
  },
  {
   "cell_type": "code",
   "execution_count": 5,
   "metadata": {},
   "outputs": [
    {
     "name": "stdout",
     "output_type": "stream",
     "text": [
      "Tabla de frecuencias de longitud_sepalo: {5.0: 10, 6.3: 9, 5.1: 9, 5.7: 8, 6.7: 8, 6.4: 7, 5.8: 7, 5.5: 7, 5.4: 6, 6.1: 6, 5.6: 6, 6.0: 6, 4.9: 6, 4.8: 5, 6.5: 5, 6.2: 4, 5.2: 4, 4.6: 4, 7.7: 4, 6.9: 4, 7.2: 3, 5.9: 3, 4.4: 3, 6.8: 3, 4.7: 2, 6.6: 2, 7.4: 1, 7.6: 1, 7.3: 1, 4.3: 1, 7.1: 1, 7.0: 1, 5.3: 1, 4.5: 1, 7.9: 1}\n",
      "El valor más repetido para longitud_sepalo es 5.0\n",
      "Tabla de frecuencias de ancho_sepalo: {3.0: 26, 2.8: 14, 3.2: 13, 3.4: 12, 3.1: 12, 2.9: 10, 2.7: 9, 2.5: 8, 3.3: 6, 3.5: 6, 3.8: 6, 2.6: 5, 2.3: 4, 2.4: 3, 2.2: 3, 3.6: 3, 3.7: 3, 3.9: 2, 4.1: 1, 4.2: 1, 2.0: 1, 4.0: 1, 4.4: 1}\n",
      "El valor más repetido para ancho_sepalo es 3.0\n",
      "Tabla de frecuencias de longitud_petalo: {1.5: 14, 1.4: 12, 4.5: 8, 5.1: 8, 1.3: 7, 1.6: 7, 5.6: 6, 4.0: 5, 4.9: 5, 4.7: 5, 5.0: 4, 4.8: 4, 4.4: 4, 4.2: 4, 1.7: 4, 5.8: 3, 4.1: 3, 5.7: 3, 5.5: 3, 6.1: 3, 4.6: 3, 3.9: 3, 6.7: 2, 1.2: 2, 5.4: 2, 5.3: 2, 5.2: 2, 5.9: 2, 1.9: 2, 3.3: 2, 3.5: 2, 4.3: 2, 6.0: 2, 6.6: 1, 6.4: 1, 6.3: 1, 1.0: 1, 1.1: 1, 3.8: 1, 3.7: 1, 3.6: 1, 3.0: 1, 6.9: 1}\n",
      "El valor más repetido para longitud_petalo es 1.5\n",
      "Tabla de frecuencias de ancho_petalo: {0.2: 27, 1.3: 13, 1.5: 12, 1.8: 12, 2.3: 8, 1.4: 8, 0.3: 7, 0.4: 7, 1.0: 7, 2.1: 6, 2.0: 6, 0.1: 6, 1.2: 5, 1.9: 5, 1.6: 4, 1.1: 3, 2.2: 3, 2.4: 3, 2.5: 3, 1.7: 2, 0.6: 1, 0.5: 1}\n",
      "El valor más repetido para ancho_petalo es 0.2\n"
     ]
    }
   ],
   "source": [
    "# Guardar tabla de frecuencias\n",
    "import numpy as np\n",
    "\n",
    "longitud_sepalo_valores = np.sort(df[\"longitud_sepalo\"].values)\n",
    "longitud_sepalo_frecuencias = pd.Series(longitud_sepalo_valores).value_counts()\n",
    "print(f\"Tabla de frecuencias de longitud_sepalo: {dict(longitud_sepalo_frecuencias)}\")\n",
    "print(f\"El valor más repetido para longitud_sepalo es {longitud_sepalo_frecuencias.idxmax()}\")\n",
    "ancho_sepalo_valores = np.sort(df[\"ancho_sepalo\"].values)\n",
    "ancho_sepalo_frecuencias = pd.Series(ancho_sepalo_valores).value_counts()\n",
    "print(f\"Tabla de frecuencias de ancho_sepalo: {dict(ancho_sepalo_frecuencias)}\")\n",
    "print(f\"El valor más repetido para ancho_sepalo es {ancho_sepalo_frecuencias.idxmax()}\")\n",
    "longitud_petalo_valores = np.sort(df[\"longitud_petalo\"].values)\n",
    "longitud_petalo_frecuencias = pd.Series(longitud_petalo_valores).value_counts()\n",
    "print(f\"Tabla de frecuencias de longitud_petalo: {dict(longitud_petalo_frecuencias)}\")\n",
    "print(f\"El valor más repetido para longitud_petalo es {longitud_petalo_frecuencias.idxmax()}\")\n",
    "ancho_petalo_valores = np.sort(df[\"ancho_petalo\"].values)\n",
    "ancho_petalo_frecuencias = pd.Series(ancho_petalo_valores).value_counts()\n",
    "print(f\"Tabla de frecuencias de ancho_petalo: {dict(ancho_petalo_frecuencias)}\")\n",
    "print(f\"El valor más repetido para ancho_petalo es {ancho_petalo_frecuencias.idxmax()}\")"
   ]
  },
  {
   "cell_type": "code",
   "execution_count": 6,
   "metadata": {},
   "outputs": [],
   "source": [
    "# Importamos librería para mostrar histograma\n",
    "import matplotlib.pyplot as plt"
   ]
  },
  {
   "cell_type": "code",
   "execution_count": 7,
   "metadata": {},
   "outputs": [
    {
     "data": {
      "image/png": "[encoded data removed]",
      "text/plain": [
       "<Figure size 640x480 with 1 Axes>"
      ]
     },
     "metadata": {},
     "output_type": "display_data"
    }
   ],
   "source": [
    "plt.hist(df[\"longitud_sepalo\"])\n",
    "plt.title(\"Longitud del sépalo\")\n",
    "plt.show()"
   ]
  },
  {
   "cell_type": "code",
   "execution_count": 8,
   "metadata": {},
   "outputs": [
    {
     "data": {
      "image/png": "[encoded data removed]",
      "text/plain": [
       "<Figure size 640x480 with 1 Axes>"
      ]
     },
     "metadata": {},
     "output_type": "display_data"
    }
   ],
   "source": [
    "plt.hist(df[\"ancho_sepalo\"])\n",
    "plt.title(\"Ancho del sépalo\")\n",
    "plt.show()"
   ]
  },
  {
   "cell_type": "code",
   "execution_count": 9,
   "metadata": {},
   "outputs": [
    {
     "data": {
      "image/png": "[encoded data removed]",
      "text/plain": [
       "<Figure size 640x480 with 1 Axes>"
      ]
     },
     "metadata": {},
     "output_type": "display_data"
    }
   ],
   "source": [
    "plt.hist(df[\"longitud_petalo\"])\n",
    "plt.title(\"Longitud del pétalo\")\n",
    "plt.show()"
   ]
  },
  {
   "cell_type": "code",
   "execution_count": 10,
   "metadata": {},
   "outputs": [
    {
     "data": {
      "image/png": "[encoded data removed]",
      "text/plain": [
       "<Figure size 640x480 with 1 Axes>"
      ]
     },
     "metadata": {},
     "output_type": "display_data"
    }
   ],
   "source": [
    "plt.hist(df[\"ancho_petalo\"])\n",
    "plt.title(\"Ancho del pétalo\")\n",
    "plt.show()"
   ]
  },
  {
   "cell_type": "markdown",
   "metadata": {},
   "source": [
    "# Conclusiones obtención y limpieza de datos\n",
    "<br><br>Hay una muestra que no recoge información del \"Ancho del pétalo\" y se debe tomar una decisión de cara a invalidar esa muestra o sustituir el valor por una dato que no altere el estudio. El valor más repetido para esa variable es 1.2 (MODA) y el valor medio es 1.21 (MEAN)\n",
    "<br><br>El análisis de los valores mínimos y máximos de la muestra no parecen indicar valores exageradamente bajos o altos respectivamente. Los valores mínimos, de las distintas variales, están entre 1.46 (Ancho del pétalo) y 2.43 (Ancho del sépalo) veces la desviación estándar de la media. Los valores máximos están entre 1.71 (Ancho del pétalo) y 3.10 (Ancho del sépalo) veces la desviación estándar de la media. La variable \"Ancho del sépalo\" es la que tiene más alejados los valores mínimos y máximos de su tendencia central, sien embargo esto puede ser debido a qué también tiene (según su desviación estándar) una menor dispersión"
   ]
  }
 ],
 "metadata": {
  "kernelspec": {
   "display_name": "base",
   "language": "python",
   "name": "python3"
  },
  "language_info": {
   "codemirror_mode": {
    "name": "ipython",
    "version": 3
   },
   "file_extension": ".py",
   "mimetype": "text/x-python",
   "name": "python",
   "nbconvert_exporter": "python",
   "pygments_lexer": "ipython3",
   "version": "3.11.5"
  }
 },
 "nbformat": 4,
 "nbformat_minor": 2
}
