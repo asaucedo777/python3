{
 "cells": [
  {
   "cell_type": "markdown",
   "metadata": {},
   "source": [
    "**LIMPIEZA CONJUNTO DATOS IRIS**\n",
    "1. Sustituir valores NaN en Ancho pétalo por valor más repetido 0.2"
   ]
  },
  {
   "cell_type": "code",
   "execution_count": 1,
   "metadata": {},
   "outputs": [
    {
     "data": {
      "text/plain": [
       "longitud_sepalo    0\n",
       "ancho_sepalo       0\n",
       "longitud_petalo    0\n",
       "ancho_petalo       1\n",
       "clase              0\n",
       "dtype: int64"
      ]
     },
     "execution_count": 1,
     "metadata": {},
     "output_type": "execute_result"
    }
   ],
   "source": [
    "# Resumen de datos no recogidos\n",
    "# Utilizamos librería pandas por que el tamaño de los datos es pequeño (150 items)\n",
    "import pandas as pd\n",
    "# Los datos no contienen cabeceras\n",
    "df = pd.read_csv(\"iris.csv\", header=None)\n",
    "# Definimos las columnas que contiene el df\n",
    "df.columns=['longitud_sepalo','ancho_sepalo','longitud_petalo','ancho_petalo','clase']\n",
    "# Resumen de datos no válidos\n",
    "df.isna().sum()"
   ]
  },
  {
   "cell_type": "code",
   "execution_count": 8,
   "metadata": {},
   "outputs": [],
   "source": [
    "import numpy as np\n",
    "# Obtenemos los valores del ancho petalo nulos \n",
    "# y los sustituimos por el valor más repetido 1.2\n",
    "dataset = np.where(df[\"ancho_petalo\"].isna(), 1.2, df[\"ancho_petalo\"])\n",
    "# Actualizamos la columna del dataframe original\n",
    "df[\"ancho_petalo\"] = dataset\n",
    "# Guardamos en fichero csv (esta vez con cabeceras)\n",
    "# Por defecto, sobreescribe el fichero\n",
    "df.to_csv(\"iris_clean.csv\")\n"
   ]
  }
 ],
 "metadata": {
  "kernelspec": {
   "display_name": "base",
   "language": "python",
   "name": "python3"
  },
  "language_info": {
   "codemirror_mode": {
    "name": "ipython",
    "version": 3
   },
   "file_extension": ".py",
   "mimetype": "text/x-python",
   "name": "python",
   "nbconvert_exporter": "python",
   "pygments_lexer": "ipython3",
   "version": "3.11.5"
  }
 },
 "nbformat": 4,
 "nbformat_minor": 2
}
