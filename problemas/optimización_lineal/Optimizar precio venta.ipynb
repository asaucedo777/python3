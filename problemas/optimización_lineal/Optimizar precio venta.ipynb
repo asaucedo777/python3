{
 "cells": [
  {
   "cell_type": "markdown",
   "metadata": {},
   "source": [
    "Planteamiento del problema:\n",
    "  Un heladero ha comprobado que, a un precio de 50 céntimos de euro la unidad, vende una media de 200 helados diarios. Por cada céntimo que aumenta el precio, vende dos helados menos al día. Si el coste por unidad es de 40 céntimos, ¿a qué precio de venta es máximo el beneficio diario que obtiene el heladero? ¿Cuál será ese beneficio?"
   ]
  },
  {
   "cell_type": "code",
   "execution_count": 1,
   "metadata": {},
   "outputs": [
    {
     "data": {
      "text/plain": [
       "'\\n  Cantidad vendida = 200 - (x - 50)*2 = 200 - 2*x + 100 = 300 - 2*x\\n  Ingresos totales = (300 - 2*x) * x = -2*x^2 + 300*x\\n  Costes totales   = (300 - 2*x) * 40 = -80*x + 1200\\n  Beneficio total  = -2*x**2 + 300*x - 80*x + 1200 = -2*x**2 + 220*x + 1200\\n'"
      ]
     },
     "execution_count": 1,
     "metadata": {},
     "output_type": "execute_result"
    }
   ],
   "source": [
    "# Definimos la función que representa el beneficio obtenido f(x) donde x es el precio\n",
    "\"\"\"\n",
    "  Cantidad vendida = 200 - (x - 50)*2 = 200 - 2*x + 100 = 300 - 2*x\n",
    "  Ingresos totales = (300 - 2*x) * x = -2*x^2 + 300*x\n",
    "  Costes totales   = (300 - 2*x) * 40 = -80*x + 1200\n",
    "  Beneficio total  = -2*x**2 + 300*x - 80*x + 1200 = -2*x**2 + 220*x + 1200\n",
    "\"\"\""
   ]
  },
  {
   "cell_type": "code",
   "execution_count": 2,
   "metadata": {},
   "outputs": [],
   "source": [
    "# Importamos np y plt\n",
    "import numpy as np\n",
    "import matplotlib.pyplot as plt"
   ]
  },
  {
   "cell_type": "code",
   "execution_count": 3,
   "metadata": {},
   "outputs": [
    {
     "data": {
      "image/png": "[encoded data removed]",
      "text/plain": [
       "<Figure size 640x480 with 1 Axes>"
      ]
     },
     "metadata": {},
     "output_type": "display_data"
    }
   ],
   "source": [
    "# Representamos gráficamente la función beneficio\n",
    "x = np.linspace(0, 100, 10)\n",
    "plt.plot(x, -2*x**2 + 220*x + 1200)\n",
    "plt.axis(ymin=0)\n",
    "plt.grid(True)\n",
    "plt.show()"
   ]
  },
  {
   "cell_type": "code",
   "execution_count": 4,
   "metadata": {},
   "outputs": [
    {
     "ename": "TypeError",
     "evalue": "unsupported operand type(s) for ** or pow(): 'LpVariable' and 'int'",
     "output_type": "error",
     "traceback": [
      "\u001b[0;31m---------------------------------------------------------------------------\u001b[0m",
      "\u001b[0;31mTypeError\u001b[0m                                 Traceback (most recent call last)",
      "Cell \u001b[0;32mIn[4], line 6\u001b[0m\n\u001b[1;32m      4\u001b[0m x1 \u001b[38;5;241m=\u001b[39m LpVariable(\u001b[38;5;124m\"\u001b[39m\u001b[38;5;124mx1\u001b[39m\u001b[38;5;124m\"\u001b[39m, \u001b[38;5;241m0\u001b[39m, \u001b[38;5;241m100\u001b[39m)\n\u001b[1;32m      5\u001b[0m prob \u001b[38;5;241m=\u001b[39m LpProblem(\u001b[38;5;124m\"\u001b[39m\u001b[38;5;124mhelados\u001b[39m\u001b[38;5;124m\"\u001b[39m, LpMaximize)\n\u001b[0;32m----> 6\u001b[0m prob \u001b[38;5;241m+\u001b[39m\u001b[38;5;241m=\u001b[39m \u001b[38;5;241m-\u001b[39m\u001b[38;5;241m2\u001b[39m\u001b[38;5;241m*\u001b[39mx1\u001b[38;5;241m*\u001b[39m\u001b[38;5;241m*\u001b[39m\u001b[38;5;241m2\u001b[39m \u001b[38;5;241m+\u001b[39m \u001b[38;5;241m220\u001b[39m\u001b[38;5;241m*\u001b[39mx1 \u001b[38;5;241m+\u001b[39m \u001b[38;5;241m1200\u001b[39m\n",
      "\u001b[0;31mTypeError\u001b[0m: unsupported operand type(s) for ** or pow(): 'LpVariable' and 'int'"
     ]
    }
   ],
   "source": [
    "# Calcular exactamente el valor que maximiza el beneficio\n",
    "# NO PODEMOS UTILIZAR pulp o cvxopt pq -2*x1**2 + 220*x1 + 1200 es una función polinómica de grado 2\n",
    "from pulp import *\n",
    "x1 = LpVariable(\"x1\", 0, 100)\n",
    "prob = LpProblem(\"helados\", LpMaximize)\n",
    "prob += -2*x1**2 + 220*x1 + 1200"
   ]
  },
  {
   "cell_type": "code",
   "execution_count": null,
   "metadata": {},
   "outputs": [
    {
     "name": "stdout",
     "output_type": "stream",
     "text": [
      " message: The solution converged.\n",
      " success: True\n",
      "  status: 1\n",
      "     fun: [ 0.000e+00]\n",
      "       x: [-5.208e+00]\n",
      "    nfev: 10\n",
      "    fjac: [[-1.000e+00]]\n",
      "       r: [-2.408e+02]\n",
      "     qtf: [ 1.527e-09]\n"
     ]
    }
   ],
   "source": [
    "# utilizando SciPy\n",
    "from scipy.optimize import root, minimize\n",
    "helado_root = root(lambda x: -2*x**2 + 220*x + 1200, 0)\n",
    "print(helado_root)"
   ]
  },
  {
   "cell_type": "code",
   "execution_count": null,
   "metadata": {},
   "outputs": [
    {
     "name": "stdout",
     "output_type": "stream",
     "text": [
      "  message: Optimization terminated successfully.\n",
      "  success: True\n",
      "   status: 0\n",
      "      fun: -7249.999999999961\n",
      "        x: [ 5.500e+01]\n",
      "      nit: 4\n",
      "      jac: [ 0.000e+00]\n",
      " hess_inv: [[ 1.667e-01]]\n",
      "     nfev: 14\n",
      "     njev: 7\n",
      "Beneficio optimo 72.50 € en precio 55 céntimos\n"
     ]
    }
   ],
   "source": [
    "# Minimizar una función\n",
    "mymin = minimize(lambda x: -(-2*x**2 + 220*x + 1200), 0, method='BFGS')\n",
    "print(mymin)\n",
    "print(\"Beneficio optimo {0:.2f} € en precio {1:.0f} céntimos\".format(-mymin.fun / 100, mymin.x[0]))"
   ]
  }
 ],
 "metadata": {
  "kernelspec": {
   "display_name": "base",
   "language": "python",
   "name": "python3"
  },
  "language_info": {
   "codemirror_mode": {
    "name": "ipython",
    "version": 3
   },
   "file_extension": ".py",
   "mimetype": "text/x-python",
   "name": "python",
   "nbconvert_exporter": "python",
   "pygments_lexer": "ipython3",
   "version": "3.11.5"
  }
 },
 "nbformat": 4,
 "nbformat_minor": 2
}
