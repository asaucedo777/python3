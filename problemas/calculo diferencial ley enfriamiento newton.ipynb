{
 "cells": [
  {
   "cell_type": "markdown",
   "metadata": {},
   "source": [
    "\"A la 1 pm un termómetro que marca 70ºF, es trasladado al exterior donde el aire tiene unatemperatura de -10ºF a las 1:02 pm la temperatura es de 26ºF ¿Cuál es la lectura deltermómetro a las 1:05 pm?\"  \n",
    "\n",
    "f(0) = 70  \n",
    "f(2) = 26  \n",
    "f(5) = ?  \n",
    "f(∞) = -10  \n",
    "\n",
    "Según la **Ley de Enfriamiento de Newton**:  \n",
    "T(t) = -k(T - T_amb)  \n",
    "  * k -> constante de proporcionalidad  \n",
    "  * T_amb -> temperatura ambiente  \n",
    "\n",
    "Planteamos la **ecuación diferencial**:  \n",
    "dT / dt = -k(T - T_amb)  \n",
    "\n",
    "* Separamos variables T y t  \n",
    "dT / (T - T_amb) = -k dt  \n",
    "\n",
    "* Integramos a ambos lados (a la izda integramos por T y a la derecha por t)  \n",
    "∫ (1 / (T - T_amb)) dT = ∫ (-k) dt  \n",
    "ln|T - T_amb| + C = -kt + C  \n",
    "ln |T - T_amb| = -kt\n",
    "\n",
    "* Simplificamos la ecuación:  \n",
    "|T - T_amb| = e^(-kt)  \n",
    "\n",
    "* Eliminamos el valor absoluto introduciendo una constante  \n",
    "T - T_amb = C1 * e^(-kt)  \n",
    "C1 = +-e^C  \n",
    "\n",
    "* Determinamos el valor de la constante para T(0) cuando t=0:  \n",
    "T0 - T_amb = C1 * e^(-k * 0) = C1 * e^0 = C1 * 1 = C1  \n",
    "C1 = T0 - T_amb  \n",
    "\n",
    "* Sustituimos C1 en la ecuación T(t) = T_amb + C1 * e^(-kt)  \n",
    "T(t) = T_amb + (T0 - T_amb) * e^(-kt)  \n",
    "\n",
    "Calculamos k:  \n",
    "T(2) = T_amb + (T0 - T_amb) * e^(-kt) = 26  \n",
    "-10 + (70 - (-10)) * e^(-k*2) = 26  \n",
    "80 * e^(-k*2) = 36  \n",
    "e^(-k*2) = 36 / 80  \n",
    "-2k = ln(36/80)  \n",
    "k = ln(36/80) / -2\n",
    "k = 0.3992538481088858\n",
    "\n",
    "Calculamos T(5):  \n",
    "T(5) = f(5) = T_amb + (T0 - T_amb) * e**(-kt)  \n",
    "-10 + 80*(2.718281828459045**(-0.3992538481088858*5))  \n",
    "0.8672903706489787  \n",
    "\n",
    "Luego la temperatura a las 1:05 horas es aproximadamente 0.87 grados Farenheit  \n"
   ]
  },
  {
   "cell_type": "code",
   "execution_count": 13,
   "metadata": {},
   "outputs": [
    {
     "name": "stdout",
     "output_type": "stream",
     "text": [
      "número e: 2.718281828459045\n",
      "ln(9/20) = -0.7985076962177716\n",
      "ln(36/80) = -0.7985076962177716\n",
      "ln(36/80) / -2 = 0.3992538481088858\n",
      "e ^(-0.3992538481088858*5) = 0.13584112963311223\n",
      "-10 + 80*(2.718281828459045**(-0.3992538481088858*5)) =       0.8672903706489787\n"
     ]
    }
   ],
   "source": [
    "import math\n",
    "print(f\"número e: {math.exp(1)}\")\n",
    "print(f\"ln(9/20) = {math.log(9/20)}\")\n",
    "print(f\"ln(36/80) = {math.log(36/80)}\")\n",
    "print(f\"ln(36/80) / -2 = {math.log(36/80)/-2}\")\n",
    "print(f\"e ^(-0.3992538481088858*5) = {2.718281828459045**(-0.3992538481088858*5)}\")\n",
    "print(f\"-10 + 80*(2.718281828459045**(-0.3992538481088858*5)) = \\\n",
    "      {-10 + 80*(2.718281828459045**(-0.3992538481088858*5))}\")"
   ]
  },
  {
   "cell_type": "code",
   "execution_count": 7,
   "metadata": {},
   "outputs": [
    {
     "data": {
      "text/plain": [
       "0.3992538481088858"
      ]
     },
     "execution_count": 7,
     "metadata": {},
     "output_type": "execute_result"
    }
   ],
   "source": []
  },
  {
   "cell_type": "code",
   "execution_count": 4,
   "metadata": {},
   "outputs": [
    {
     "data": {
      "text/plain": [
       "2.718281828459045"
      ]
     },
     "execution_count": 4,
     "metadata": {},
     "output_type": "execute_result"
    }
   ],
   "source": [
    "math.exp(1)"
   ]
  }
 ],
 "metadata": {
  "kernelspec": {
   "display_name": "python_3_12_3",
   "language": "python",
   "name": "python3"
  },
  "language_info": {
   "codemirror_mode": {
    "name": "ipython",
    "version": 3
   },
   "file_extension": ".py",
   "mimetype": "text/x-python",
   "name": "python",
   "nbconvert_exporter": "python",
   "pygments_lexer": "ipython3",
   "version": "3.12.3"
  }
 },
 "nbformat": 4,
 "nbformat_minor": 2
}
